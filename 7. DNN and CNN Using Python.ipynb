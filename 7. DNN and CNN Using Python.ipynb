{
 "cells": [
  {
   "cell_type": "markdown",
   "metadata": {},
   "source": [
    "# **Deep Neural Network (DNN)**"
   ]
  },
  {
   "cell_type": "markdown",
   "metadata": {},
   "source": [
    "Deep learning (also known as deep structured learning) is part of a broader family of machine learning methods based on artificial neural networks with representation learning.\n",
    "\n",
    "Deep learning uses artificial neural networks to perform sophisticated computations on large amounts of data. It is a type of machine learning that works based on the structure and function of the human brain. \n",
    "\n",
    "deep learning currently provide the best solutions to many problems in image recognition, computer vision, speech recognition, natural language processing, etc. \n",
    "\n",
    "Deep learning has gained massive popularity in scientific computing, and its algorithms are widely used by industries that solve complex problems. All deep learning algorithms use different types of neural networks to perform specific tasks."
   ]
  },
  {
   "cell_type": "markdown",
   "metadata": {},
   "source": [
    "## Types of Algorithms used in Deep Learning"
   ]
  },
  {
   "cell_type": "markdown",
   "metadata": {},
   "source": [
    "Here is the list of the top most popular deep learning algorithms:\n",
    "\n",
    "1. Multilayer Perceptrons (MLPs)\n",
    "2. Convolutional Neural Networks (CNNs)\n",
    "3. Long Short Term Memory Networks (LSTMs)\n",
    "4. Recurrent Neural Networks (RNNs)\n",
    "5. Generative Adversarial Networks (GANs)\n",
    "6. Autoencoders, etc"
   ]
  },
  {
   "cell_type": "markdown",
   "metadata": {},
   "source": [
    "## Multilayer Perceptrons (MLPs)"
   ]
  },
  {
   "cell_type": "markdown",
   "metadata": {},
   "source": [
    "MLPs belong to the class of feedforward neural networks with multiple layers of perceptrons that have activation functions. MLPs consist of an input layer and an output layer that are fully connected. They have the same number of input and output layers but may have multiple hidden layers and can be used to build speech-recognition, image-recognition, and machine-translation software."
   ]
  },
  {
   "cell_type": "markdown",
   "metadata": {},
   "source": [
    "### How Do MLPs Work?\n",
    "- MLPs feed the data to the input layer of the network. The layers of neurons connect in a graph so that the signal passes in one direction.\n",
    "- MLPs compute the input with the weights that exist between the input layer and the hidden layers.\n",
    "- MLPs use activation functions to determine which nodes to fire. Activation functions include ReLUs, sigmoid functions, and tanh.\n",
    "- MLPs train the model to understand the correlation and learn the dependencies between the independent and the target variables from a training data set.\n",
    "\n",
    "Below is an example of an MLP. The diagram computes weights and bias and applies suitable activation functions to classify images of cats and dogs."
   ]
  },
  {
   "cell_type": "markdown",
   "metadata": {},
   "source": [
    "![](https://www.simplilearn.com/ice9/free_resources_article_thumb/Multilayer_Perceptron.PNG)"
   ]
  },
  {
   "cell_type": "markdown",
   "metadata": {},
   "source": [
    "## Convolutional Neural Networks (CNNs)"
   ]
  },
  {
   "cell_type": "markdown",
   "metadata": {},
   "source": [
    "Traditional convolutional neural networks are frequently used in computer vision problems, where a computer must work with an image, and extract features and patterns. Convolutional neural networks are also used in video processing.\n",
    "\n"
   ]
  },
  {
   "cell_type": "markdown",
   "metadata": {},
   "source": [
    "Over the years, there are many variants of CNN architectures have been developed to solve real-world problems. LeNet is the first successful application of CNNs and was developed by Yann Lecun in the 1990s that was used to read zip codes, digits, etc. The latest work is called LeNet-5 which a 5-layer CNN that reaches 99.2 % accuracy on insolated character recognition.\n",
    "![](https://miro.medium.com/max/875/1*QFfq4_TBthj3Bmq49BF7tQ.png)"
   ]
  },
  {
   "cell_type": "markdown",
   "metadata": {},
   "source": [
    "one of the most important operations in the CNN network: **convolution**. The first layer of a Convolutional Neural Network is always a **Convolutional Layer**. Convolutional layers apply a convolution operation to the input, passing the result to the next layer."
   ]
  },
  {
   "cell_type": "markdown",
   "metadata": {},
   "source": [
    "## How does a Convolution layer work?"
   ]
  },
  {
   "cell_type": "markdown",
   "metadata": {},
   "source": [
    "### Convolutional Layer\n",
    "We use multiple convolution filters or kernels that run over the image and compute a dot product. Each filter extracts different features from the image.\n",
    "\n",
    "Lets consider a filter of size 3x3 and an image of size 5x5. We perform an element wise multiplication between the image pixel values that match the size of the kernel and the the kernel itself and sum them up. This provides us a single value for the feature cell."
   ]
  },
  {
   "cell_type": "markdown",
   "metadata": {},
   "source": [
    "![alt](https://miro.medium.com/max/583/1*xBkRA7cVyXGHIrtngV3qlg.png) \n",
    "![alt](https://miro.medium.com/max/583/1*7CI6Ji1m7u9WbJcZRfECDA.png)\n",
    "![alt](https://miro.medium.com/max/583/1*67dy99cO6tbl9NoPB2riEA.png)"
   ]
  },
  {
   "cell_type": "markdown",
   "metadata": {},
   "source": [
    "In the above example we are sliding the kernel by 1 pixel. This is called **stride**. We can have the kernel move by different stride values to extract different kinds of features."
   ]
  },
  {
   "cell_type": "markdown",
   "metadata": {},
   "source": [
    "**Padding**\n",
    "\n",
    "Padding is a technique to simply add zeros around the margin of the image to increase it’s dimension. Padding allows us to emphasize the border pixels and in order lose less information.\n",
    "Here is an example with an input image of size 5x5 which is padded to 7x7 i.e. padding size of 1 and convoluted by a kernel of size 3x3 with stride of 1 resulting in a feature of size 5x5."
   ]
  },
  {
   "cell_type": "markdown",
   "metadata": {},
   "source": [
    "![](https://miro.medium.com/max/583/1*GE2sny83f_u_o0jf6_wNRQ.png)"
   ]
  },
  {
   "cell_type": "markdown",
   "metadata": {},
   "source": [
    "### Pooling Layer\n",
    "Max pooling layer helps reduce the spatial size of the convolved features and also it is a sample-based discretization process.\n",
    "It is similar to the convolution layer but instead of taking a dot product between the input and the kernel, we take the specific value of the region from the input overlapped by the kernel.\n",
    "\n",
    "- MaxPooling\n",
    "- AveragePooling\n",
    "- GlobalMaxPooling\n",
    "- GlobalAveragePooling\n",
    "\n",
    "more detail you can check this [\"link\"](https://keras.io/api/layers/pooling_layers/)\n",
    "\n",
    "Below is an example which shows a **maxpool layer’s** operation with a kernel having size of 2 and stride of 1."
   ]
  },
  {
   "cell_type": "markdown",
   "metadata": {},
   "source": [
    "![](https://miro.medium.com/max/583/1*VrBFhQqylF-xK5BPkFgd5g.png)\n",
    "![](https://miro.medium.com/max/583/1*Z6lTnBzmMRugKtY7Wm7MeA.png)"
   ]
  },
  {
   "cell_type": "markdown",
   "metadata": {},
   "source": [
    "**Commonly used activation functions**\n",
    "\n",
    "- Rectified Linear Unit - The rectified linear unit layer (ReLU)\n",
    "- Softmax - The softmax step can be seen as a generalized logistic function (sigmoid function)"
   ]
  },
  {
   "cell_type": "markdown",
   "metadata": {},
   "source": [
    "To learn more about Deep learning, kindly go to these links: [\"Afshine Amidi\"](https://stanford.edu/~shervine/teaching/cs-230/cheatsheet-convolutional-neural-networks) and [\"Additional Papers\"](https://github.com/rauzansumara/introduction-to-machine-learning/tree/main/Material)"
   ]
  },
  {
   "cell_type": "markdown",
   "metadata": {
    "colab_type": "text",
    "id": "VhU1JAe0D2ud"
   },
   "source": [
    "## Using MLP Model"
   ]
  },
  {
   "cell_type": "markdown",
   "metadata": {},
   "source": [
    "### MNIST Datasets"
   ]
  },
  {
   "cell_type": "markdown",
   "metadata": {
    "colab_type": "text",
    "id": "548baREiEDsk"
   },
   "source": [
    "The MNIST database (Modified National Institute of Standards and Technology database) is a large database of handwritten digits that is commonly used for training various image processing systems. The database is also widely used for training and testing in the field of machine learning."
   ]
  },
  {
   "cell_type": "markdown",
   "metadata": {},
   "source": [
    "![](https://upload.wikimedia.org/wikipedia/commons/2/27/MnistExamples.png)"
   ]
  },
  {
   "cell_type": "markdown",
   "metadata": {
    "colab_type": "text",
    "id": "9BTROodhEf4_"
   },
   "source": [
    "### 1. Import Data\n",
    "The example below loads the MNIST dataset using the Keras API and creates a plot of the first nine images in the training dataset."
   ]
  },
  {
   "cell_type": "code",
   "execution_count": 1,
   "metadata": {
    "colab": {},
    "colab_type": "code",
    "id": "VlpTtcD8EmKG"
   },
   "outputs": [],
   "source": [
    "# example of loading the mnist dataset\n",
    "from tensorflow.keras.datasets import mnist\n",
    "(train_images,train_labels),(test_images,test_labels) = mnist.load_data()"
   ]
  },
  {
   "cell_type": "markdown",
   "metadata": {},
   "source": [
    "### 2. Data Summary"
   ]
  },
  {
   "cell_type": "code",
   "execution_count": 2,
   "metadata": {},
   "outputs": [
    {
     "name": "stdout",
     "output_type": "stream",
     "text": [
      "Train set: X=(60000, 28, 28), y=(60000,)\n",
      "Test set: X=(10000, 28, 28), y=(10000,)\n",
      "Output classes :  [0 1 2 3 4 5 6 7 8 9]\n",
      "Total number of outputs :  10\n"
     ]
    }
   ],
   "source": [
    "import matplotlib.pyplot as plt\n",
    "import numpy as np\n",
    "\n",
    "# summarize loaded dataset\n",
    "print('Train set: X=%s, y=%s' % (train_images.shape, train_labels.shape))\n",
    "print('Test set: X=%s, y=%s' % (test_images.shape, test_labels.shape))\n",
    "\n",
    "# Find the unique numbers from the train labels\n",
    "classes = np.unique(train_labels)\n",
    "nClasses = len(classes)\n",
    "print('Output classes : ', classes)\n",
    "print('Total number of outputs : ', nClasses)"
   ]
  },
  {
   "cell_type": "markdown",
   "metadata": {},
   "source": [
    "### 3. Plot Datasets"
   ]
  },
  {
   "cell_type": "code",
   "execution_count": 3,
   "metadata": {},
   "outputs": [
    {
     "data": {
      "image/png": "[encoded data removed]",
      "text/plain": [
       "<Figure size 432x288 with 9 Axes>"
      ]
     },
     "metadata": {},
     "output_type": "display_data"
    }
   ],
   "source": [
    "# plot first few images\n",
    "fig = plt.figure()\n",
    "for i in range(9):\n",
    "\t# define subplot\n",
    "\tplt.subplot(330 + 1 + i)\n",
    "\tplt.tight_layout()\n",
    "\t# plot raw pixel data\n",
    "\tplt.imshow(train_images[i], cmap=plt.get_cmap('gray'))\n",
    "\tplt.title(\"Label: {}\".format(train_labels[i]))\n",
    "\tplt.xticks([])\n",
    "\tplt.yticks([])\n",
    "# show the figure\n",
    "plt.show()"
   ]
  },
  {
   "cell_type": "markdown",
   "metadata": {
    "colab_type": "text",
    "id": "g0HuTd1EvnzF"
   },
   "source": [
    "### 4. Pre-processing (1)"
   ]
  },
  {
   "cell_type": "code",
   "execution_count": 4,
   "metadata": {
    "colab": {},
    "colab_type": "code",
    "id": "xzF9IrWuQEsH"
   },
   "outputs": [],
   "source": [
    "# Change from array of dimension 28x28 to array of dimension 784\n",
    "dimData = np.prod(train_images.shape[1:])\n",
    "train_data = train_images.reshape(train_images.shape[0], dimData)\n",
    "test_data = test_images.reshape(test_images.shape[0], dimData)"
   ]
  },
  {
   "cell_type": "markdown",
   "metadata": {
    "colab_type": "text",
    "id": "UhPZ2uxRwoBz"
   },
   "source": [
    "### 5. Pre-processing(2): Prepare Pixel Data"
   ]
  },
  {
   "cell_type": "markdown",
   "metadata": {},
   "source": [
    "We know that the pixel values for each image in the dataset are unsigned integers in the range between black and white, or 0 and 255.\n",
    "\n",
    "We do not know the best way to scale the pixel values for modeling, but we know that some scaling will be required.\n",
    "\n",
    "A good starting point is to normalize the pixel values of grayscale images, e.g. rescale them to the range [0,1]. This involves first converting the data type from unsigned integers to floats, then dividing the pixel values by the maximum value."
   ]
  },
  {
   "cell_type": "code",
   "execution_count": 5,
   "metadata": {
    "colab": {},
    "colab_type": "code",
    "id": "qNU7T-ZwQIk2"
   },
   "outputs": [],
   "source": [
    "# Change to float datatype\n",
    "train_data = train_data.astype('float32')\n",
    "test_data = test_data.astype('float32')\n",
    " \n",
    "# normalize to range 0-1\n",
    "train_norm = train_data / 255\n",
    "test_norm = test_data / 255"
   ]
  },
  {
   "cell_type": "markdown",
   "metadata": {
    "colab_type": "text",
    "id": "JBIEOoVSxKsE"
   },
   "source": [
    "### 6. Pre-processing(3): one-hot encoding\n"
   ]
  },
  {
   "cell_type": "code",
   "execution_count": 6,
   "metadata": {
    "colab": {},
    "colab_type": "code",
    "id": "h4ckHVOyQMgd"
   },
   "outputs": [
    {
     "name": "stdout",
     "output_type": "stream",
     "text": [
      "Original label 0 :  5\n",
      "After conversion to categorical ( one-hot ) :  [0. 0. 0. 0. 0. 1. 0. 0. 0. 0.]\n"
     ]
    }
   ],
   "source": [
    "from tensorflow.keras.utils import to_categorical\n",
    "\n",
    "# Change the labels from integer to categorical data\n",
    "train_labels_one_hot = to_categorical(train_labels)\n",
    "test_labels_one_hot = to_categorical(test_labels)\n",
    "\n",
    "# Display the change for category label using one-hot encoding\n",
    "print('Original label 0 : ', train_labels[0])\n",
    "print('After conversion to categorical ( one-hot ) : ', train_labels_one_hot[0])"
   ]
  },
  {
   "cell_type": "markdown",
   "metadata": {
    "colab_type": "text",
    "id": "vt185tVMx_A7"
   },
   "source": [
    "### 7. Define Model\n",
    "![](https://www.learnopencv.com/wp-content/uploads/2017/10/mlp-mnist-schematic.jpg)\n",
    "\n",
    "Multilayer Perceptron Model:\n",
    "\n",
    "*   Input : 784 Units\n",
    "*   Hidden Layer 1 : 512 Units\n",
    "*   Hidden Layer 2 : 512 Units\n",
    "*   Output Layer : 10 Units"
   ]
  },
  {
   "cell_type": "code",
   "execution_count": 7,
   "metadata": {
    "colab": {},
    "colab_type": "code",
    "id": "ehZG_KRJQVE9"
   },
   "outputs": [],
   "source": [
    "from tensorflow.keras.models import Sequential\n",
    "from tensorflow.keras.layers import Dense\n",
    "\n",
    "# Define the Model\n",
    "model = Sequential()\n",
    "model.add(Dense(512, activation='relu',input_shape=(dimData,)))\n",
    "model.add(Dense(512, activation='relu'))\n",
    "model.add(Dense(nClasses, activation='softmax'))"
   ]
  },
  {
   "cell_type": "markdown",
   "metadata": {
    "colab_type": "text",
    "id": "iy-sdsFyy6fO"
   },
   "source": [
    "### 8. Model Configuration"
   ]
  },
  {
   "cell_type": "code",
   "execution_count": 8,
   "metadata": {
    "colab": {},
    "colab_type": "code",
    "id": "hzh16KIAQYTD"
   },
   "outputs": [
    {
     "name": "stdout",
     "output_type": "stream",
     "text": [
      "Model: \"sequential\"\n",
      "_________________________________________________________________\n",
      "Layer (type)                 Output Shape              Param #   \n",
      "=================================================================\n",
      "dense (Dense)                (None, 512)               401920    \n",
      "_________________________________________________________________\n",
      "dense_1 (Dense)              (None, 512)               262656    \n",
      "_________________________________________________________________\n",
      "dense_2 (Dense)              (None, 10)                5130      \n",
      "=================================================================\n",
      "Total params: 669,706\n",
      "Trainable params: 669,706\n",
      "Non-trainable params: 0\n",
      "_________________________________________________________________\n"
     ]
    }
   ],
   "source": [
    "model.compile(optimizer='rmsprop', loss='categorical_crossentropy', metrics=['accuracy'])\n",
    "model.summary()"
   ]
  },
  {
   "cell_type": "markdown",
   "metadata": {
    "colab_type": "text",
    "id": "iST925Bz0PHT"
   },
   "source": [
    "### 9. Train Model"
   ]
  },
  {
   "cell_type": "code",
   "execution_count": 9,
   "metadata": {
    "colab": {},
    "colab_type": "code",
    "id": "5QieHeWDiCZG"
   },
   "outputs": [
    {
     "name": "stdout",
     "output_type": "stream",
     "text": [
      "Epoch 1/30\n",
      "235/235 [==============================] - 3s 12ms/step - loss: 0.5094 - accuracy: 0.8381 - val_loss: 0.1164 - val_accuracy: 0.9633\n",
      "Epoch 2/30\n",
      "235/235 [==============================] - 2s 9ms/step - loss: 0.0994 - accuracy: 0.9693 - val_loss: 0.1225 - val_accuracy: 0.9616\n",
      "Epoch 3/30\n",
      "235/235 [==============================] - 2s 9ms/step - loss: 0.0601 - accuracy: 0.9818 - val_loss: 0.0708 - val_accuracy: 0.9781\n",
      "Epoch 4/30\n",
      "235/235 [==============================] - 2s 9ms/step - loss: 0.0381 - accuracy: 0.9880 - val_loss: 0.0685 - val_accuracy: 0.9798\n",
      "Epoch 5/30\n",
      "235/235 [==============================] - 2s 9ms/step - loss: 0.0279 - accuracy: 0.9914 - val_loss: 0.0704 - val_accuracy: 0.9799\n",
      "Epoch 6/30\n",
      "235/235 [==============================] - 2s 9ms/step - loss: 0.0202 - accuracy: 0.9934 - val_loss: 0.0821 - val_accuracy: 0.9782\n",
      "Epoch 7/30\n",
      "235/235 [==============================] - 2s 9ms/step - loss: 0.0155 - accuracy: 0.9949 - val_loss: 0.0731 - val_accuracy: 0.9824\n",
      "Epoch 8/30\n",
      "235/235 [==============================] - 2s 9ms/step - loss: 0.0126 - accuracy: 0.9955 - val_loss: 0.0815 - val_accuracy: 0.9814\n",
      "Epoch 9/30\n",
      "235/235 [==============================] - 2s 9ms/step - loss: 0.0099 - accuracy: 0.9970 - val_loss: 0.1009 - val_accuracy: 0.9783\n",
      "Epoch 10/30\n",
      "235/235 [==============================] - 2s 9ms/step - loss: 0.0090 - accuracy: 0.9971 - val_loss: 0.1073 - val_accuracy: 0.9786\n",
      "Epoch 11/30\n",
      "235/235 [==============================] - 2s 9ms/step - loss: 0.0075 - accuracy: 0.9974 - val_loss: 0.1312 - val_accuracy: 0.9748\n",
      "Epoch 12/30\n",
      "235/235 [==============================] - 2s 9ms/step - loss: 0.0067 - accuracy: 0.9978 - val_loss: 0.1202 - val_accuracy: 0.9787\n",
      "Epoch 13/30\n",
      "235/235 [==============================] - 2s 9ms/step - loss: 0.0069 - accuracy: 0.9977 - val_loss: 0.0985 - val_accuracy: 0.9814\n",
      "Epoch 14/30\n",
      "235/235 [==============================] - 2s 9ms/step - loss: 0.0048 - accuracy: 0.9985 - val_loss: 0.1087 - val_accuracy: 0.9815\n",
      "Epoch 15/30\n",
      "235/235 [==============================] - 2s 9ms/step - loss: 0.0045 - accuracy: 0.9983 - val_loss: 0.1119 - val_accuracy: 0.9831\n",
      "Epoch 16/30\n",
      "235/235 [==============================] - 2s 9ms/step - loss: 0.0044 - accuracy: 0.9984 - val_loss: 0.1171 - val_accuracy: 0.9833\n",
      "Epoch 17/30\n",
      "235/235 [==============================] - 2s 9ms/step - loss: 0.0041 - accuracy: 0.9988 - val_loss: 0.1074 - val_accuracy: 0.9847\n",
      "Epoch 18/30\n",
      "235/235 [==============================] - 2s 9ms/step - loss: 0.0037 - accuracy: 0.9989 - val_loss: 0.1258 - val_accuracy: 0.9831\n",
      "Epoch 19/30\n",
      "235/235 [==============================] - 2s 9ms/step - loss: 0.0050 - accuracy: 0.9985 - val_loss: 0.1455 - val_accuracy: 0.9795\n",
      "Epoch 20/30\n",
      "235/235 [==============================] - 2s 9ms/step - loss: 0.0038 - accuracy: 0.9987 - val_loss: 0.1312 - val_accuracy: 0.9832\n",
      "Epoch 21/30\n",
      "235/235 [==============================] - 2s 9ms/step - loss: 0.0031 - accuracy: 0.9992 - val_loss: 0.1338 - val_accuracy: 0.9849\n",
      "Epoch 22/30\n",
      "235/235 [==============================] - 2s 9ms/step - loss: 0.0028 - accuracy: 0.9991 - val_loss: 0.1422 - val_accuracy: 0.9834\n",
      "Epoch 23/30\n",
      "235/235 [==============================] - 2s 9ms/step - loss: 0.0026 - accuracy: 0.9992 - val_loss: 0.1471 - val_accuracy: 0.9833\n",
      "Epoch 24/30\n",
      "235/235 [==============================] - 2s 9ms/step - loss: 0.0027 - accuracy: 0.9991 - val_loss: 0.1451 - val_accuracy: 0.9826\n",
      "Epoch 25/30\n",
      "235/235 [==============================] - 2s 9ms/step - loss: 0.0024 - accuracy: 0.9992 - val_loss: 0.1928 - val_accuracy: 0.9796\n",
      "Epoch 26/30\n",
      "235/235 [==============================] - 2s 9ms/step - loss: 0.0033 - accuracy: 0.9991 - val_loss: 0.1426 - val_accuracy: 0.9848\n",
      "Epoch 27/30\n",
      "235/235 [==============================] - 2s 9ms/step - loss: 0.0032 - accuracy: 0.9993 - val_loss: 0.1764 - val_accuracy: 0.9819\n",
      "Epoch 28/30\n",
      "235/235 [==============================] - 2s 9ms/step - loss: 0.0023 - accuracy: 0.9992 - val_loss: 0.1567 - val_accuracy: 0.9833\n",
      "Epoch 29/30\n",
      "235/235 [==============================] - 2s 9ms/step - loss: 0.0013 - accuracy: 0.9997 - val_loss: 0.1878 - val_accuracy: 0.9817\n",
      "Epoch 30/30\n",
      "235/235 [==============================] - 2s 9ms/step - loss: 0.0020 - accuracy: 0.9993 - val_loss: 0.1749 - val_accuracy: 0.9832\n"
     ]
    }
   ],
   "source": [
    "history = model.fit(train_norm, train_labels_one_hot, batch_size=256, epochs=30, verbose=1,\n",
    "                   validation_data=(test_norm, test_labels_one_hot))"
   ]
  },
  {
   "cell_type": "markdown",
   "metadata": {
    "colab_type": "text",
    "id": "Vzn6dLdP1npU"
   },
   "source": [
    "### 10. Evaluate Model"
   ]
  },
  {
   "cell_type": "code",
   "execution_count": 10,
   "metadata": {
    "colab": {},
    "colab_type": "code",
    "id": "ovalAws_QbeX"
   },
   "outputs": [
    {
     "name": "stdout",
     "output_type": "stream",
     "text": [
      "313/313 [==============================] - 0s 920us/step - loss: 0.1749 - accuracy: 0.9832\n",
      "Evaluation result on Test Data : Loss = 0.17489729821681976, accuracy = 0.9832000136375427\n"
     ]
    }
   ],
   "source": [
    "# Evaluate the Trained Model\n",
    "[test_loss, test_acc] = model.evaluate(test_norm, test_labels_one_hot)\n",
    "print(\"Evaluation result on Test Data : Loss = {}, accuracy = {}\".format(test_loss, test_acc))"
   ]
  },
  {
   "cell_type": "code",
   "execution_count": 13,
   "metadata": {},
   "outputs": [
    {
     "data": {
      "text/plain": [
       "<matplotlib.legend.Legend at 0x26696367640>"
      ]
     },
     "execution_count": 13,
     "metadata": {},
     "output_type": "execute_result"
    },
    {
     "data": {
      "image/png": "[encoded data removed]",
      "text/plain": [
       "<Figure size 720x576 with 1 Axes>"
      ]
     },
     "metadata": {},
     "output_type": "display_data"
    }
   ],
   "source": [
    "N = 30\n",
    "plt.style.use(\"ggplot\")\n",
    "plt.figure(figsize=[10, 8])\n",
    "plt.plot(np.arange(0, N), history.history[\"loss\"], label=\"train_loss\")\n",
    "plt.plot(np.arange(0, N), history.history[\"val_loss\"], label=\"val_loss\")\n",
    "plt.plot(np.arange(0, N), history.history[\"accuracy\"], label=\"train_acc\")\n",
    "plt.plot(np.arange(0, N), history.history[\"val_accuracy\"], label=\"val_acc\")\n",
    "plt.title(\"Training Loss and Accuracy\")\n",
    "plt.xlabel(\"Epoch #\")\n",
    "plt.ylabel(\"Loss/Accuracy\")\n",
    "plt.legend(loc=\"lower left\")"
   ]
  },
  {
   "cell_type": "markdown",
   "metadata": {
    "colab_type": "text",
    "id": "jpCmOtA02qvY"
   },
   "source": [
    "### 11. Apply Regularization"
   ]
  },
  {
   "cell_type": "markdown",
   "metadata": {},
   "source": [
    "Here the value 0.01 is the value of regularization parameter, i.e., lambda"
   ]
  },
  {
   "cell_type": "code",
   "execution_count": 14,
   "metadata": {
    "colab": {},
    "colab_type": "code",
    "id": "ofOctKPkpMMj"
   },
   "outputs": [
    {
     "name": "stdout",
     "output_type": "stream",
     "text": [
      "Model: \"sequential_1\"\n",
      "_________________________________________________________________\n",
      "Layer (type)                 Output Shape              Param #   \n",
      "=================================================================\n",
      "dense_3 (Dense)              (None, 512)               401920    \n",
      "_________________________________________________________________\n",
      "dense_4 (Dense)              (None, 512)               262656    \n",
      "_________________________________________________________________\n",
      "dense_5 (Dense)              (None, 10)                5130      \n",
      "=================================================================\n",
      "Total params: 669,706\n",
      "Trainable params: 669,706\n",
      "Non-trainable params: 0\n",
      "_________________________________________________________________\n"
     ]
    }
   ],
   "source": [
    "from tensorflow.keras import regularizers\n",
    " \n",
    "model_reg = Sequential()\n",
    "model_reg.add(Dense(512, activation='relu', kernel_regularizer=regularizers.l2(2e-4), input_shape=(dimData,)))\n",
    "model_reg.add(Dense(512, kernel_regularizer=regularizers.l2(2e-4), activation='relu'))\n",
    "model_reg.add(Dense(nClasses, activation='softmax'))\n",
    "\n",
    "model_reg.summary()"
   ]
  },
  {
   "cell_type": "markdown",
   "metadata": {
    "colab_type": "text",
    "id": "5D75qzBy3T50"
   },
   "source": [
    "### 16. Retrain the Model"
   ]
  },
  {
   "cell_type": "code",
   "execution_count": 17,
   "metadata": {
    "colab": {},
    "colab_type": "code",
    "id": "Q1AkTMCfpXm9"
   },
   "outputs": [
    {
     "name": "stdout",
     "output_type": "stream",
     "text": [
      "Epoch 1/30\n",
      "235/235 [==============================] - 3s 12ms/step - loss: 0.0689 - accuracy: 0.9892 - val_loss: 0.0993 - val_accuracy: 0.9810\n",
      "Epoch 2/30\n",
      "235/235 [==============================] - 3s 11ms/step - loss: 0.0433 - accuracy: 0.9948 - val_loss: 0.1198 - val_accuracy: 0.9768\n",
      "Epoch 3/30\n",
      "235/235 [==============================] - 3s 11ms/step - loss: 0.0424 - accuracy: 0.9952 - val_loss: 0.1376 - val_accuracy: 0.9711\n",
      "Epoch 4/30\n",
      "235/235 [==============================] - 3s 11ms/step - loss: 0.0433 - accuracy: 0.9951 - val_loss: 0.1078 - val_accuracy: 0.9804\n",
      "Epoch 5/30\n",
      "235/235 [==============================] - 3s 11ms/step - loss: 0.0415 - accuracy: 0.9951 - val_loss: 0.1022 - val_accuracy: 0.9793\n",
      "Epoch 6/30\n",
      "235/235 [==============================] - 3s 11ms/step - loss: 0.0429 - accuracy: 0.9943 - val_loss: 0.0957 - val_accuracy: 0.9805\n",
      "Epoch 7/30\n",
      "235/235 [==============================] - 3s 11ms/step - loss: 0.0422 - accuracy: 0.9951 - val_loss: 0.1059 - val_accuracy: 0.9793\n",
      "Epoch 8/30\n",
      "235/235 [==============================] - 3s 11ms/step - loss: 0.0406 - accuracy: 0.9958 - val_loss: 0.1147 - val_accuracy: 0.9776\n",
      "Epoch 9/30\n",
      "235/235 [==============================] - 3s 11ms/step - loss: 0.0413 - accuracy: 0.9953 - val_loss: 0.1275 - val_accuracy: 0.9755\n",
      "Epoch 10/30\n",
      "235/235 [==============================] - 3s 11ms/step - loss: 0.0411 - accuracy: 0.9952 - val_loss: 0.1090 - val_accuracy: 0.9793\n",
      "Epoch 11/30\n",
      "235/235 [==============================] - 3s 11ms/step - loss: 0.0416 - accuracy: 0.9952 - val_loss: 0.1090 - val_accuracy: 0.9799\n",
      "Epoch 12/30\n",
      "235/235 [==============================] - 3s 11ms/step - loss: 0.0416 - accuracy: 0.9951 - val_loss: 0.1278 - val_accuracy: 0.9760\n",
      "Epoch 13/30\n",
      "235/235 [==============================] - 3s 11ms/step - loss: 0.0419 - accuracy: 0.9945 - val_loss: 0.0993 - val_accuracy: 0.9795\n",
      "Epoch 14/30\n",
      "235/235 [==============================] - 3s 11ms/step - loss: 0.0402 - accuracy: 0.9955 - val_loss: 0.1334 - val_accuracy: 0.9732\n",
      "Epoch 15/30\n",
      "235/235 [==============================] - 3s 11ms/step - loss: 0.0413 - accuracy: 0.9946 - val_loss: 0.1193 - val_accuracy: 0.9755\n",
      "Epoch 16/30\n",
      "235/235 [==============================] - 3s 11ms/step - loss: 0.0396 - accuracy: 0.9955 - val_loss: 0.1000 - val_accuracy: 0.9807\n",
      "Epoch 17/30\n",
      "235/235 [==============================] - 3s 11ms/step - loss: 0.0380 - accuracy: 0.9961 - val_loss: 0.0962 - val_accuracy: 0.9820\n",
      "Epoch 18/30\n",
      "235/235 [==============================] - 3s 11ms/step - loss: 0.0383 - accuracy: 0.9956 - val_loss: 0.1142 - val_accuracy: 0.9783\n",
      "Epoch 19/30\n",
      "235/235 [==============================] - 3s 11ms/step - loss: 0.0395 - accuracy: 0.9950 - val_loss: 0.1511 - val_accuracy: 0.9717\n",
      "Epoch 20/30\n",
      "235/235 [==============================] - 3s 11ms/step - loss: 0.0404 - accuracy: 0.9949 - val_loss: 0.1087 - val_accuracy: 0.9790\n",
      "Epoch 21/30\n",
      "235/235 [==============================] - 3s 11ms/step - loss: 0.0384 - accuracy: 0.9953 - val_loss: 0.0981 - val_accuracy: 0.9803\n",
      "Epoch 22/30\n",
      "235/235 [==============================] - 3s 11ms/step - loss: 0.0391 - accuracy: 0.9951 - val_loss: 0.1253 - val_accuracy: 0.9756\n",
      "Epoch 23/30\n",
      "235/235 [==============================] - 3s 11ms/step - loss: 0.0388 - accuracy: 0.9951 - val_loss: 0.1029 - val_accuracy: 0.9812\n",
      "Epoch 24/30\n",
      "235/235 [==============================] - 3s 11ms/step - loss: 0.0384 - accuracy: 0.9951 - val_loss: 0.1321 - val_accuracy: 0.9743\n",
      "Epoch 25/30\n",
      "235/235 [==============================] - 3s 11ms/step - loss: 0.0378 - accuracy: 0.9956 - val_loss: 0.1334 - val_accuracy: 0.9737\n",
      "Epoch 26/30\n",
      "235/235 [==============================] - 3s 11ms/step - loss: 0.0381 - accuracy: 0.9953 - val_loss: 0.1064 - val_accuracy: 0.9795\n",
      "Epoch 27/30\n",
      "235/235 [==============================] - 3s 11ms/step - loss: 0.0369 - accuracy: 0.9957 - val_loss: 0.1126 - val_accuracy: 0.9784\n",
      "Epoch 28/30\n",
      "235/235 [==============================] - 3s 11ms/step - loss: 0.0371 - accuracy: 0.9959 - val_loss: 0.1381 - val_accuracy: 0.9729\n",
      "Epoch 29/30\n",
      "235/235 [==============================] - 3s 11ms/step - loss: 0.0383 - accuracy: 0.9952 - val_loss: 0.1178 - val_accuracy: 0.9772\n",
      "Epoch 30/30\n",
      "235/235 [==============================] - 3s 11ms/step - loss: 0.0358 - accuracy: 0.9961 - val_loss: 0.1112 - val_accuracy: 0.9780\n"
     ]
    }
   ],
   "source": [
    "model_reg.compile(optimizer='rmsprop', loss='categorical_crossentropy', metrics=['accuracy'])\n",
    "history_reg = model_reg.fit(train_norm, train_labels_one_hot, batch_size=256, epochs=30, verbose=1,\n",
    "                            validation_data=(test_norm, test_labels_one_hot))"
   ]
  },
  {
   "cell_type": "markdown",
   "metadata": {
    "colab_type": "text",
    "id": "-vkcTSUQ33n4"
   },
   "source": [
    "### 17. Again, Evaluate the Model"
   ]
  },
  {
   "cell_type": "code",
   "execution_count": 19,
   "metadata": {},
   "outputs": [
    {
     "data": {
      "text/plain": [
       "<matplotlib.legend.Legend at 0x2669bd88190>"
      ]
     },
     "execution_count": 19,
     "metadata": {},
     "output_type": "execute_result"
    },
    {
     "data": {
      "image/png": "[encoded data removed]",
      "text/plain": [
       "<Figure size 720x576 with 1 Axes>"
      ]
     },
     "metadata": {},
     "output_type": "display_data"
    }
   ],
   "source": [
    "N = 30\n",
    "plt.style.use(\"ggplot\")\n",
    "plt.figure(figsize=[10, 8])\n",
    "plt.plot(np.arange(0, N), history_reg.history[\"loss\"], label=\"train_loss\")\n",
    "plt.plot(np.arange(0, N), history_reg.history[\"val_loss\"], label=\"val_loss\")\n",
    "plt.plot(np.arange(0, N), history_reg.history[\"accuracy\"], label=\"train_acc\")\n",
    "plt.plot(np.arange(0, N), history_reg.history[\"val_accuracy\"], label=\"val_acc\")\n",
    "plt.title(\"Training Loss and Accuracy\")\n",
    "plt.xlabel(\"Epoch #\")\n",
    "plt.ylabel(\"Loss/Accuracy\")\n",
    "plt.legend(loc=\"lower left\")"
   ]
  },
  {
   "cell_type": "markdown",
   "metadata": {
    "colab_type": "text",
    "id": "UOWcgAS75fnX"
   },
   "source": [
    "### 18. Prediction"
   ]
  },
  {
   "cell_type": "code",
   "execution_count": 20,
   "metadata": {
    "colab": {},
    "colab_type": "code",
    "id": "GEylyQtiQnMc"
   },
   "outputs": [
    {
     "name": "stdout",
     "output_type": "stream",
     "text": [
      "Predict Class =  7\n"
     ]
    },
    {
     "name": "stderr",
     "output_type": "stream",
     "text": [
      "C:\\Users\\rauzan\\anaconda3\\lib\\site-packages\\tensorflow\\python\\keras\\engine\\sequential.py:450: UserWarning: `model.predict_classes()` is deprecated and will be removed after 2021-01-01. Please use instead:* `np.argmax(model.predict(x), axis=-1)`,   if your model does multi-class classification   (e.g. if it uses a `softmax` last-layer activation).* `(model.predict(x) > 0.5).astype(\"int32\")`,   if your model does binary classification   (e.g. if it uses a `sigmoid` last-layer activation).\n",
      "  warnings.warn('`model.predict_classes()` is deprecated and '\n"
     ]
    },
    {
     "data": {
      "text/plain": [
       "<matplotlib.image.AxesImage at 0x266a283fa00>"
      ]
     },
     "execution_count": 20,
     "metadata": {},
     "output_type": "execute_result"
    },
    {
     "data": {
      "image/png": "[encoded data removed]",
      "text/plain": [
       "<Figure size 432x288 with 1 Axes>"
      ]
     },
     "metadata": {},
     "output_type": "display_data"
    }
   ],
   "source": [
    "# Predict the most likely class\n",
    "test_predict_class = model_reg.predict_classes(test_norm[[0]])\n",
    "print(\"Predict Class = \",test_predict_class[0])\n",
    "\n",
    "# Show Plot\n",
    "plt.imshow(test_images[0, :, :], cmap='gray')"
   ]
  },
  {
   "cell_type": "markdown",
   "metadata": {},
   "source": [
    "## Using CNN Model"
   ]
  },
  {
   "cell_type": "markdown",
   "metadata": {},
   "source": [
    "### 1. Reshape dimension of The Input Data"
   ]
  },
  {
   "cell_type": "code",
   "execution_count": 24,
   "metadata": {},
   "outputs": [
    {
     "name": "stdout",
     "output_type": "stream",
     "text": [
      "Dimension of The Input Data: (28, 28, 1)\n",
      "(60000, 28, 28, 1)\n"
     ]
    }
   ],
   "source": [
    "nchannels = 1\n",
    "nRows, nCols = train_images.shape[1:]\n",
    "input_shape = (nRows, nCols, nchannels)\n",
    "\n",
    "train_cnn = train_images.reshape(train_images.shape[0], nRows, nCols, nchannels)\n",
    "test_cnn = test_images.reshape(test_images.shape[0], nRows, nCols, nchannels)\n",
    "\n",
    "print(f'Dimension of The Input Data: {input_shape}')\n",
    "print(train_cnn.shape)"
   ]
  },
  {
   "cell_type": "markdown",
   "metadata": {},
   "source": [
    "### 2. Normalize Data"
   ]
  },
  {
   "cell_type": "code",
   "execution_count": 25,
   "metadata": {},
   "outputs": [],
   "source": [
    "# Change to float datatype\n",
    "train_cnn = train_cnn.astype('float32')\n",
    "test_cnn = test_cnn.astype('float32')\n",
    "\n",
    "# normalize the data between 0 to 1\n",
    "train_cnn /= 255\n",
    "test_cnn /= 255"
   ]
  },
  {
   "cell_type": "markdown",
   "metadata": {},
   "source": [
    "### 3. Define CNN Model"
   ]
  },
  {
   "cell_type": "code",
   "execution_count": 27,
   "metadata": {},
   "outputs": [],
   "source": [
    "# Define CNN Model\n",
    "from tensorflow.keras.models import Sequential\n",
    "from tensorflow.keras.layers import Dense, Conv2D, MaxPooling2D, Dropout, Flatten\n",
    "\n",
    "def createModel():\n",
    "    model = Sequential()\n",
    "    # The first two layers with 32 filters of window size 3x3\n",
    "    model.add(Conv2D(32, (3, 3), padding='same', activation='relu', input_shape=input_shape))\n",
    "    model.add(Conv2D(32, (3, 3), activation='relu'))\n",
    "    model.add(MaxPooling2D(pool_size=(2, 2)))\n",
    "\n",
    "    model.add(Conv2D(64, (3, 3), padding='same', activation='relu'))\n",
    "    model.add(Conv2D(64, (3, 3), activation='relu'))\n",
    "    model.add(MaxPooling2D(pool_size=(2, 2)))\n",
    "\n",
    "    model.add(Conv2D(64, (3, 3), padding='same', activation='relu'))\n",
    "    model.add(Conv2D(64, (3, 3), activation='relu'))\n",
    "    model.add(MaxPooling2D(pool_size=(2, 2)))\n",
    "\n",
    "    model.add(Flatten())\n",
    "    model.add(Dense(512, activation='relu'))\n",
    "    model.add(Dense(nClasses, activation='softmax')) \n",
    "      \n",
    "    return model"
   ]
  },
  {
   "cell_type": "markdown",
   "metadata": {},
   "source": [
    "### 4. Model Configuration"
   ]
  },
  {
   "cell_type": "code",
   "execution_count": 28,
   "metadata": {},
   "outputs": [
    {
     "name": "stdout",
     "output_type": "stream",
     "text": [
      "Model: \"sequential_2\"\n",
      "_________________________________________________________________\n",
      "Layer (type)                 Output Shape              Param #   \n",
      "=================================================================\n",
      "conv2d (Conv2D)              (None, 28, 28, 32)        320       \n",
      "_________________________________________________________________\n",
      "conv2d_1 (Conv2D)            (None, 26, 26, 32)        9248      \n",
      "_________________________________________________________________\n",
      "max_pooling2d (MaxPooling2D) (None, 13, 13, 32)        0         \n",
      "_________________________________________________________________\n",
      "conv2d_2 (Conv2D)            (None, 13, 13, 64)        18496     \n",
      "_________________________________________________________________\n",
      "conv2d_3 (Conv2D)            (None, 11, 11, 64)        36928     \n",
      "_________________________________________________________________\n",
      "max_pooling2d_1 (MaxPooling2 (None, 5, 5, 64)          0         \n",
      "_________________________________________________________________\n",
      "conv2d_4 (Conv2D)            (None, 5, 5, 64)          36928     \n",
      "_________________________________________________________________\n",
      "conv2d_5 (Conv2D)            (None, 3, 3, 64)          36928     \n",
      "_________________________________________________________________\n",
      "max_pooling2d_2 (MaxPooling2 (None, 1, 1, 64)          0         \n",
      "_________________________________________________________________\n",
      "flatten (Flatten)            (None, 64)                0         \n",
      "_________________________________________________________________\n",
      "dense_6 (Dense)              (None, 512)               33280     \n",
      "_________________________________________________________________\n",
      "dense_7 (Dense)              (None, 10)                5130      \n",
      "=================================================================\n",
      "Total params: 177,258\n",
      "Trainable params: 177,258\n",
      "Non-trainable params: 0\n",
      "_________________________________________________________________\n"
     ]
    }
   ],
   "source": [
    "# Configure the Model\n",
    "model_cnn = createModel()\n",
    "model_cnn.compile(optimizer='rmsprop', loss='categorical_crossentropy', metrics=['accuracy'])\n",
    "model_cnn.summary()"
   ]
  },
  {
   "cell_type": "markdown",
   "metadata": {},
   "source": [
    "### 5. Compile CNN Model"
   ]
  },
  {
   "cell_type": "code",
   "execution_count": 29,
   "metadata": {},
   "outputs": [
    {
     "name": "stdout",
     "output_type": "stream",
     "text": [
      "Epoch 1/10\n",
      "235/235 [==============================] - 44s 182ms/step - loss: 0.8594 - accuracy: 0.7160 - val_loss: 0.2031 - val_accuracy: 0.9363\n",
      "Epoch 2/10\n",
      "235/235 [==============================] - 46s 194ms/step - loss: 0.0786 - accuracy: 0.9763 - val_loss: 0.0331 - val_accuracy: 0.9900\n",
      "Epoch 3/10\n",
      "235/235 [==============================] - 45s 193ms/step - loss: 0.0399 - accuracy: 0.9882 - val_loss: 0.0433 - val_accuracy: 0.9877\n",
      "Epoch 4/10\n",
      "235/235 [==============================] - 44s 186ms/step - loss: 0.0287 - accuracy: 0.9913 - val_loss: 0.0250 - val_accuracy: 0.9918\n",
      "Epoch 5/10\n",
      "235/235 [==============================] - 42s 178ms/step - loss: 0.0195 - accuracy: 0.9937 - val_loss: 0.0242 - val_accuracy: 0.9934\n",
      "Epoch 6/10\n",
      "235/235 [==============================] - 42s 178ms/step - loss: 0.0160 - accuracy: 0.9948 - val_loss: 0.0255 - val_accuracy: 0.9925\n",
      "Epoch 7/10\n",
      "235/235 [==============================] - 42s 179ms/step - loss: 0.0137 - accuracy: 0.9957 - val_loss: 0.0333 - val_accuracy: 0.9916\n",
      "Epoch 8/10\n",
      "235/235 [==============================] - 44s 188ms/step - loss: 0.0109 - accuracy: 0.9966 - val_loss: 0.0270 - val_accuracy: 0.9928\n",
      "Epoch 9/10\n",
      "235/235 [==============================] - 44s 189ms/step - loss: 0.0090 - accuracy: 0.9971 - val_loss: 0.0220 - val_accuracy: 0.9941\n",
      "Epoch 10/10\n",
      "235/235 [==============================] - 44s 189ms/step - loss: 0.0078 - accuracy: 0.9973 - val_loss: 0.0326 - val_accuracy: 0.9928\n"
     ]
    }
   ],
   "source": [
    "model_cnn.compile(optimizer='rmsprop', loss='categorical_crossentropy', metrics=['accuracy'])\n",
    "history_cnn = model_cnn.fit(train_cnn, train_labels_one_hot, batch_size=256, epochs=10, verbose=1,\n",
    "                            validation_data=(test_cnn, test_labels_one_hot))"
   ]
  },
  {
   "cell_type": "markdown",
   "metadata": {},
   "source": [
    "### 6. Evaluate the Model"
   ]
  },
  {
   "cell_type": "code",
   "execution_count": 30,
   "metadata": {},
   "outputs": [
    {
     "name": "stdout",
     "output_type": "stream",
     "text": [
      "313/313 [==============================] - 2s 8ms/step - loss: 0.0326 - accuracy: 0.9928\n",
      "Evaluation result on Test Data : Loss = 0.03263780474662781, accuracy = 0.9927999973297119\n"
     ]
    }
   ],
   "source": [
    "# Evaluate the Trained Model\n",
    "[test_loss, test_acc] = model_cnn.evaluate(test_cnn, test_labels_one_hot)\n",
    "print(\"Evaluation result on Test Data : Loss = {}, accuracy = {}\".format(test_loss, test_acc))"
   ]
  },
  {
   "cell_type": "code",
   "execution_count": 31,
   "metadata": {},
   "outputs": [
    {
     "data": {
      "text/plain": [
       "<matplotlib.legend.Legend at 0x266b13fdb80>"
      ]
     },
     "execution_count": 31,
     "metadata": {},
     "output_type": "execute_result"
    },
    {
     "data": {
      "image/png": "[encoded data removed]",
      "text/plain": [
       "<Figure size 720x576 with 1 Axes>"
      ]
     },
     "metadata": {},
     "output_type": "display_data"
    }
   ],
   "source": [
    "# Checkout the Loss and Accuracy Curves\n",
    "N = 10\n",
    "plt.style.use(\"ggplot\")\n",
    "plt.figure(figsize=[10, 8])\n",
    "plt.plot(np.arange(0, N), history_cnn.history[\"loss\"], label=\"train_loss\")\n",
    "plt.plot(np.arange(0, N), history_cnn.history[\"val_loss\"], label=\"val_loss\")\n",
    "plt.plot(np.arange(0, N), history_cnn.history[\"accuracy\"], label=\"train_acc\")\n",
    "plt.plot(np.arange(0, N), history_cnn.history[\"val_accuracy\"], label=\"val_acc\")\n",
    "plt.title(\"Training Loss and Accuracy\")\n",
    "plt.xlabel(\"Epoch #\")\n",
    "plt.ylabel(\"Loss/Accuracy\")\n",
    "plt.legend(loc=\"lower left\")"
   ]
  },
  {
   "cell_type": "markdown",
   "metadata": {},
   "source": [
    "### 7. Prediction"
   ]
  },
  {
   "cell_type": "code",
   "execution_count": 34,
   "metadata": {},
   "outputs": [
    {
     "name": "stderr",
     "output_type": "stream",
     "text": [
      "C:\\Users\\rauzan\\anaconda3\\lib\\site-packages\\tensorflow\\python\\keras\\engine\\sequential.py:450: UserWarning: `model.predict_classes()` is deprecated and will be removed after 2021-01-01. Please use instead:* `np.argmax(model.predict(x), axis=-1)`,   if your model does multi-class classification   (e.g. if it uses a `softmax` last-layer activation).* `(model.predict(x) > 0.5).astype(\"int32\")`,   if your model does binary classification   (e.g. if it uses a `sigmoid` last-layer activation).\n",
      "  warnings.warn('`model.predict_classes()` is deprecated and '\n"
     ]
    },
    {
     "name": "stdout",
     "output_type": "stream",
     "text": [
      "Predict Class =  7\n",
      "Predict =  [[2.2194988e-10 5.0083315e-07 1.0753436e-05 9.0437794e-08 6.4337542e-08\n",
      "  1.6250757e-09 3.4799004e-14 9.9998808e-01 2.2131168e-09 4.9193653e-07]]\n"
     ]
    },
    {
     "data": {
      "text/plain": [
       "<matplotlib.image.AxesImage at 0x266b2021f40>"
      ]
     },
     "execution_count": 34,
     "metadata": {},
     "output_type": "execute_result"
    },
    {
     "data": {
      "image/png": "[encoded data removed]",
      "text/plain": [
       "<Figure size 432x288 with 1 Axes>"
      ]
     },
     "metadata": {},
     "output_type": "display_data"
    }
   ],
   "source": [
    "# Get Predicted Output\n",
    "# --------------------\n",
    "# Predict the most likely class\n",
    "test_predict_class = model_cnn.predict_classes(test_cnn)\n",
    "print(\"Predict Class = \",test_predict_class[0])\n",
    "\n",
    "# Predict the probabilities for each class\n",
    "test_predict = model_cnn.predict(test_cnn[[0], :])\n",
    "print(\"Predict = \",test_predict)\n",
    "\n",
    "# Show Plot\n",
    "plt.imshow(test_images[0, :, :], cmap='gray')"
   ]
  },
  {
   "cell_type": "code",
   "execution_count": 37,
   "metadata": {},
   "outputs": [
    {
     "data": {
      "image/png": "[encoded data removed]",
      "text/plain": [
       "<Figure size 720x576 with 2 Axes>"
      ]
     },
     "metadata": {},
     "output_type": "display_data"
    }
   ],
   "source": [
    "from sklearn.metrics import confusion_matrix\n",
    "import seaborn as sns\n",
    "\n",
    "plt.figure(figsize=(10, 8))\n",
    "cf_mat2 = confusion_matrix(test_labels, test_predict_class)\n",
    "sns.heatmap(cf_mat2, annot=True, fmt='g')\n",
    "plt.show()"
   ]
  }
 ],
 "metadata": {
  "accelerator": "GPU",
  "colab": {
   "name": "Latihan_Klasifikasi_MINST_MLP.ipynb",
   "provenance": [],
   "version": "0.3.2"
  },
  "kernelspec": {
   "display_name": "Python 3",
   "language": "python",
   "name": "python3"
  },
  "language_info": {
   "codemirror_mode": {
    "name": "ipython",
    "version": 3
   },
   "file_extension": ".py",
   "mimetype": "text/x-python",
   "name": "python",
   "nbconvert_exporter": "python",
   "pygments_lexer": "ipython3",
   "version": "3.8.5"
  }
 },
 "nbformat": 4,
 "nbformat_minor": 1
}
