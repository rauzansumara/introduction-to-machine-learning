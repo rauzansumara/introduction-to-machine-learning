{
  "cells": [
    {
      "cell_type": "markdown",
      "metadata": {
        "colab_type": "text",
        "id": "ZIAkIlfmCe1B"
      },
      "source": [
        "# <font color = #4854E8> Linear Regression With scikit-learn </font>"
      ]
    },
    {
      "attachments": {},
      "cell_type": "markdown",
      "metadata": {},
      "source": [
        "To get started, let's look at the simplest possible scenario: linear regression.\n",
        "\n",
        "When using linear regression, there are five fundamental steps to follow:\n",
        "\n",
        "1. First, make sure you've imported the required packages and classes.\n",
        "2. Second, give us some data to work with, and we'll get around to making the necessary adjustments.\n",
        "3. Third, build a regression model, and use it to explain the data you already have.\n",
        "4. Determine if the model is good by looking at the outcomes of the fitting procedure.\n",
        "5. Fifth, use the model to make forecasts.\n",
        "\n",
        "Most methods and implementations of regression share these commonalities."
      ]
    },
    {
      "cell_type": "markdown",
      "metadata": {
        "colab_type": "text",
        "id": "DzbtdRcZDO9B"
      },
      "source": [
        "## Step 1: Imports\n",
        "\n",
        "The first step is to import the package numpy and the class LinearRegression from sklearn.linear_model:"
      ]
    },
    {
      "cell_type": "code",
      "execution_count": 11,
      "metadata": {},
      "outputs": [],
      "source": [
        "import pandas as pd\n",
        "import numpy as np\n",
        "from sklearn.linear_model import LinearRegression"
      ]
    },
    {
      "cell_type": "markdown",
      "metadata": {},
      "source": [
        "Now, you have all the functionalities you need to implement linear regression.\n",
        "\n",
        "The fundamental data type of NumPy is the array type called numpy.ndarray. The rest of this article uses the term array to refer to instances of the type numpy.ndarray.\n",
        "\n",
        "The class sklearn.linear_model.LinearRegression will be used to perform linear and polynomial regression and make predictions accordingly."
      ]
    },
    {
      "cell_type": "markdown",
      "metadata": {},
      "source": [
        "## Step 2: Provide data"
      ]
    },
    {
      "cell_type": "markdown",
      "metadata": {},
      "source": [
        "**Data Set Information:**\n",
        "We perform energy analysis using 12 different building shapes simulated in Ecotect. The buildings differ with respect to the glazing area, the glazing area distribution, and the orientation, amongst other parameters. We simulate various settings as functions of the afore-mentioned characteristics to obtain 768 building shapes. The dataset comprises 768 samples and 8 features, aiming to predict two real valued responses. It can also be used as a multi-class classification problem if the response is rounded to the nearest integer.\n",
        "\n",
        "**Attribute Information:**\n",
        "The dataset contains eight attributes (or features, denoted by X1...X8) and two responses (or outcomes, denoted by y1 and y2). The aim is to use the eight features to predict each of the two responses.\n",
        "\n",
        "**Specifically:**\n",
        "- X1 Relative Compactness\n",
        "- X2 Surface Area\n",
        "- X3 Wall Area\n",
        "- X4 Roof Area\n",
        "- X5 Overall Height\n",
        "- X6 Orientation\n",
        "- X7 Glazing Area\n",
        "- X8 Glazing Area Distribution\n",
        "- y1 Heating Load\n",
        "- y2 Cooling Load"
      ]
    },
    {
      "cell_type": "code",
      "execution_count": 12,
      "metadata": {},
      "outputs": [],
      "source": [
        "mydata = pd.read_excel(\"https://archive.ics.uci.edu/ml/machine-learning-databases/00242/ENB2012_data.xlsx\")"
      ]
    },
    {
      "cell_type": "code",
      "execution_count": 13,
      "metadata": {},
      "outputs": [
        {
          "data": {
            "text/plain": [
              "Index(['X1', 'X2', 'X3', 'X4', 'X5', 'X6', 'X7', 'X8', 'Y1', 'Y2'], dtype='object')"
            ]
          },
          "execution_count": 13,
          "metadata": {},
          "output_type": "execute_result"
        }
      ],
      "source": [
        "mydata.columns"
      ]
    },
    {
      "cell_type": "code",
      "execution_count": 15,
      "metadata": {},
      "outputs": [
        {
          "data": {
            "text/plain": [
              "Text(0, 0.5, 'y')"
            ]
          },
          "execution_count": 15,
          "metadata": {},
          "output_type": "execute_result"
        },
        {
          "data": {
            "image/png": "[encoded data removed]",
            "text/plain": [
              "<Figure size 432x288 with 1 Axes>"
            ]
          },
          "metadata": {
            "needs_background": "light"
          },
          "output_type": "display_data"
        }
      ],
      "source": [
        "import matplotlib.pyplot as plt\n",
        "plt.scatter(mydata.X1, mydata.Y1)\n",
        "plt.xlabel('x1')\n",
        "plt.ylabel('y')"
      ]
    },
    {
      "cell_type": "code",
      "execution_count": 30,
      "metadata": {},
      "outputs": [],
      "source": [
        "x = np.array(mydata.X1).reshape((-1, 1))\n",
        "y = np.array(mydata.Y1)"
      ]
    },
    {
      "cell_type": "markdown",
      "metadata": {},
      "source": [
        "Now, you have two arrays: the input x and output y. You should call .reshape() on x because this array is required to be two-dimensional, or to be more precise, to have one column and as many rows as necessary. That’s exactly what the argument (-1, 1) of .reshape() specifies."
      ]
    },
    {
      "cell_type": "markdown",
      "metadata": {},
      "source": [
        "## Step 3: Create a model and fit it"
      ]
    },
    {
      "cell_type": "markdown",
      "metadata": {},
      "source": [
        "This statement creates the variable model as the instance of LinearRegression. You can provide several optional parameters to LinearRegression:\n",
        "\n",
        "- fit_intercept is a Boolean (True by default) that decides whether to calculate the intercept 𝑏₀ (True) or consider it equal to zero (False).\n",
        "- normalize is a Boolean (False by default) that decides whether to normalize the input variables (True) or not (False).\n",
        "- copy_X is a Boolean (True by default) that decides whether to copy (True) or overwrite the input variables (False).\n",
        "- n_jobs is an integer or None (default) and represents the number of jobs used in parallel computation. None usually means one job and -1 to use all processors.\n",
        "This example uses the default values of all parameters."
      ]
    },
    {
      "cell_type": "code",
      "execution_count": 31,
      "metadata": {},
      "outputs": [
        {
          "data": {
            "text/plain": [
              "LinearRegression()"
            ]
          },
          "execution_count": 31,
          "metadata": {},
          "output_type": "execute_result"
        }
      ],
      "source": [
        "model = LinearRegression()\n",
        "model.fit(x, y)"
      ]
    },
    {
      "cell_type": "markdown",
      "metadata": {},
      "source": [
        "With .fit(), you calculate the optimal values of the weights 𝑏₀ and 𝑏₁, using the existing input and output (x and y) as the arguments. In other words, .fit() fits the model."
      ]
    },
    {
      "cell_type": "markdown",
      "metadata": {},
      "source": [
        "## Step 4: Get results"
      ]
    },
    {
      "cell_type": "code",
      "execution_count": 32,
      "metadata": {},
      "outputs": [
        {
          "name": "stdout",
          "output_type": "stream",
          "text": [
            "coefficient of determination: 0.3872223619321592\n",
            "intercept: -23.053014060655016\n",
            "slope: [59.35905261]\n"
          ]
        }
      ],
      "source": [
        "r_sq = model.score(x, y)\n",
        "print('coefficient of determination:', r_sq)\n",
        "print('intercept:', model.intercept_)\n",
        "print('slope:', model.coef_)"
      ]
    },
    {
      "cell_type": "markdown",
      "metadata": {},
      "source": [
        "When you’re applying .score(), the arguments are also the predictor x and regressor y, and the return value is 𝑅².\n",
        "The code above illustrates how to get 𝑏₀ and 𝑏₁. You can notice that .intercept_ is a scalar, while .coef_ is an array."
      ]
    },
    {
      "cell_type": "markdown",
      "metadata": {},
      "source": [
        "## Step 5: Predict response"
      ]
    },
    {
      "cell_type": "code",
      "execution_count": 33,
      "metadata": {},
      "outputs": [
        {
          "name": "stdout",
          "output_type": "stream",
          "text": [
            "predicted response:\n",
            "[24.43422803 30.37013329 36.30603855]\n"
          ]
        }
      ],
      "source": [
        "y_pred = model.predict([[0.8],[0.9],[1.0]])\n",
        "print('predicted response:', y_pred, sep='\\n')"
      ]
    },
    {
      "cell_type": "markdown",
      "metadata": {},
      "source": [
        "# <font color = #4854E8> Linear Regression With Keras Tansorflow </font>"
      ]
    },
    {
      "cell_type": "code",
      "execution_count": 34,
      "metadata": {
        "colab": {},
        "colab_type": "code",
        "id": "X9uIpOS2zx7k"
      },
      "outputs": [],
      "source": [
        "import tensorflow as tf\n",
        "import keras"
      ]
    },
    {
      "cell_type": "markdown",
      "metadata": {
        "colab_type": "text",
        "id": "wwJGmDrQ0EoB"
      },
      "source": [
        "## Step 1: Define and Compile the Neural Network\n",
        "\n",
        "Next we will create the simplest possible neural network. It has 1 layer, and that layer has 1 neuron, and the input shape to it is just 1 value."
      ]
    },
    {
      "cell_type": "code",
      "execution_count": 35,
      "metadata": {
        "colab": {},
        "colab_type": "code",
        "id": "kQFAr_xo0M4T"
      },
      "outputs": [
        {
          "data": {
            "text/plain": [
              "<keras.callbacks.History at 0x1b825dde1f0>"
            ]
          },
          "execution_count": 35,
          "metadata": {},
          "output_type": "execute_result"
        }
      ],
      "source": [
        "model2 = tf.keras.Sequential([keras.layers.Dense(units=1, input_shape=[1])])\n",
        "model2.compile(optimizer='sgd', loss='mean_squared_error')\n",
        "model2.fit(x, y, epochs=1000, verbose=0)"
      ]
    },
    {
      "cell_type": "markdown",
      "metadata": {},
      "source": [
        "## Step 2: Obtain Parameters/weights"
      ]
    },
    {
      "cell_type": "code",
      "execution_count": 36,
      "metadata": {},
      "outputs": [
        {
          "data": {
            "text/plain": [
              "[<tf.Variable 'dense_5/kernel:0' shape=(1, 1) dtype=float32, numpy=array([[57.70134]], dtype=float32)>,\n",
              " <tf.Variable 'dense_5/bias:0' shape=(1,) dtype=float32, numpy=array([-21.813543], dtype=float32)>]"
            ]
          },
          "execution_count": 36,
          "metadata": {},
          "output_type": "execute_result"
        }
      ],
      "source": [
        "model2.weights"
      ]
    },
    {
      "cell_type": "markdown",
      "metadata": {},
      "source": [
        "## Step 3: Predict response"
      ]
    },
    {
      "cell_type": "code",
      "execution_count": 37,
      "metadata": {
        "colab": {},
        "colab_type": "code",
        "id": "oxNzL4lS2Gui"
      },
      "outputs": [
        {
          "name": "stdout",
          "output_type": "stream",
          "text": [
            "1/1 [==============================] - 0s 48ms/step\n",
            "[[24.347528]\n",
            " [30.117662]\n",
            " [35.887794]]\n"
          ]
        }
      ],
      "source": [
        "print(model2.predict([[0.8],[0.9],[1.0]]))"
      ]
    },
    {
      "cell_type": "markdown",
      "metadata": {},
      "source": [
        "# <font color = #4854E8> Linear Regression with statsmodels </font>"
      ]
    },
    {
      "cell_type": "markdown",
      "metadata": {},
      "source": [
        "You can implement linear regression in Python relatively easily by using the package statsmodels as well. Typically, this is desirable when there is a need for more detailed results.\n",
        "\n",
        "The procedure is similar to that of scikit-learn."
      ]
    },
    {
      "cell_type": "code",
      "execution_count": 38,
      "metadata": {},
      "outputs": [],
      "source": [
        "# import library\n",
        "import statsmodels.api as sm\n",
        "\n",
        "# add column of one\n",
        "x_with_one = sm.add_constant(x)"
      ]
    },
    {
      "cell_type": "markdown",
      "metadata": {},
      "source": [
        "You need to add the column of ones to the inputs if you want statsmodels to calculate the intercept 𝑏₀. It doesn’t takes 𝑏₀ into account by default. That’s how you add the column of ones to x with add_constant(). It takes the input array x as an argument and returns a new array with the column of ones inserted at the beginning."
      ]
    },
    {
      "cell_type": "code",
      "execution_count": 41,
      "metadata": {},
      "outputs": [],
      "source": [
        "# Create a model and fit it\n",
        "model3 = sm.OLS(y, x_with_one)\n",
        "results = model3.fit()"
      ]
    },
    {
      "cell_type": "markdown",
      "metadata": {},
      "source": [
        "You should be careful here! Please, notice that the first argument is the output, followed with the input. There are several more optional parameters.\n",
        "\n",
        "By calling .fit(), you obtain the variable results, which is an instance of the class statsmodels.regression.linear_model.RegressionResultsWrapper. This object holds a lot of information about the regression model."
      ]
    },
    {
      "cell_type": "code",
      "execution_count": 42,
      "metadata": {},
      "outputs": [
        {
          "name": "stdout",
          "output_type": "stream",
          "text": [
            "                            OLS Regression Results                            \n",
            "==============================================================================\n",
            "Dep. Variable:                      y   R-squared:                       0.387\n",
            "Model:                            OLS   Adj. R-squared:                  0.386\n",
            "Method:                 Least Squares   F-statistic:                     484.0\n",
            "Date:                Thu, 06 Oct 2022   Prob (F-statistic):           1.59e-83\n",
            "Time:                        16:02:20   Log-Likelihood:                -2676.5\n",
            "No. Observations:                 768   AIC:                             5357.\n",
            "Df Residuals:                     766   BIC:                             5366.\n",
            "Df Model:                           1                                         \n",
            "Covariance Type:            nonrobust                                         \n",
            "==============================================================================\n",
            "                 coef    std err          t      P>|t|      [0.025      0.975]\n",
            "------------------------------------------------------------------------------\n",
            "const        -23.0530      2.081    -11.076      0.000     -27.139     -18.967\n",
            "x1            59.3591      2.698     22.001      0.000      54.063      64.655\n",
            "==============================================================================\n",
            "Omnibus:                       53.989   Durbin-Watson:                   0.305\n",
            "Prob(Omnibus):                  0.000   Jarque-Bera (JB):               64.326\n",
            "Skew:                           0.708   Prob(JB):                     1.08e-14\n",
            "Kurtosis:                       3.059   Cond. No.                         15.0\n",
            "==============================================================================\n",
            "\n",
            "Notes:\n",
            "[1] Standard Errors assume that the covariance matrix of the errors is correctly specified.\n"
          ]
        }
      ],
      "source": [
        "# Get results\n",
        "print(results.summary())"
      ]
    },
    {
      "cell_type": "markdown",
      "metadata": {},
      "source": [
        "# <font color = #4854E8> Linear Regression Manually </font>"
      ]
    },
    {
      "cell_type": "code",
      "execution_count": 53,
      "metadata": {},
      "outputs": [
        {
          "data": {
            "text/plain": [
              "array([-23.05301406,  59.35905261])"
            ]
          },
          "execution_count": 53,
          "metadata": {},
          "output_type": "execute_result"
        }
      ],
      "source": [
        "x_x = np.linalg.inv(np.dot(x_with_one.T,x_with_one))\n",
        "x_y = np.dot(x_with_one.T,y)\n",
        "beta = np.dot(x_x,x_y)\n",
        "beta"
      ]
    },
    {
      "cell_type": "markdown",
      "metadata": {},
      "source": [
        "## Multiple Linear Regression With statmodels\n",
        "\n"
      ]
    },
    {
      "cell_type": "code",
      "execution_count": 55,
      "metadata": {},
      "outputs": [
        {
          "name": "stdout",
          "output_type": "stream",
          "text": [
            "                            OLS Regression Results                            \n",
            "==============================================================================\n",
            "Dep. Variable:                      y   R-squared:                       0.916\n",
            "Model:                            OLS   Adj. R-squared:                  0.915\n",
            "Method:                 Least Squares   F-statistic:                     1187.\n",
            "Date:                Thu, 06 Oct 2022   Prob (F-statistic):               0.00\n",
            "Time:                        21:26:19   Log-Likelihood:                -1912.5\n",
            "No. Observations:                 768   AIC:                             3841.\n",
            "Df Residuals:                     760   BIC:                             3878.\n",
            "Df Model:                           7                                         \n",
            "Covariance Type:            nonrobust                                         \n",
            "==============================================================================\n",
            "                 coef    std err          t      P>|t|      [0.025      0.975]\n",
            "------------------------------------------------------------------------------\n",
            "const         84.0134     19.034      4.414      0.000      46.649     121.378\n",
            "x1           -64.7734     10.289     -6.295      0.000     -84.973     -44.574\n",
            "x2            -0.0626      0.013     -4.670      0.000      -0.089      -0.036\n",
            "x3             0.0361      0.004      9.386      0.000       0.029       0.044\n",
            "x4            -0.0494      0.008     -6.569      0.000      -0.064      -0.035\n",
            "x5             4.1700      0.338     12.338      0.000       3.506       4.833\n",
            "x6            -0.0233      0.095     -0.246      0.805      -0.209       0.163\n",
            "x7            19.9327      0.814     24.488      0.000      18.335      21.531\n",
            "x8             0.2038      0.070      2.915      0.004       0.067       0.341\n",
            "==============================================================================\n",
            "Omnibus:                       18.647   Durbin-Watson:                   0.654\n",
            "Prob(Omnibus):                  0.000   Jarque-Bera (JB):               37.707\n",
            "Skew:                           0.044   Prob(JB):                     6.49e-09\n",
            "Kurtosis:                       4.082   Cond. No.                     1.09e+16\n",
            "==============================================================================\n",
            "\n",
            "Notes:\n",
            "[1] Standard Errors assume that the covariance matrix of the errors is correctly specified.\n",
            "[2] The smallest eigenvalue is 3.81e-24. This might indicate that there are\n",
            "strong multicollinearity problems or that the design matrix is singular.\n"
          ]
        }
      ],
      "source": [
        "# define new data\n",
        "X = mydata[[\"X1\",\"X2\",\"X3\",\"X4\",\"X5\",\"X6\",\"X7\",\"X8\"]].to_numpy()\n",
        "X = sm.add_constant(X)\n",
        "\n",
        "# Create a model and fit it\n",
        "model4 = sm.OLS(y, X)\n",
        "results = model4.fit()\n",
        "\n",
        "# Get results\n",
        "print(results.summary())"
      ]
    },
    {
      "cell_type": "markdown",
      "metadata": {},
      "source": [
        "## Detecting Multicollinearity with VIF"
      ]
    },
    {
      "cell_type": "code",
      "execution_count": 56,
      "metadata": {},
      "outputs": [],
      "source": [
        "# import library\n",
        "from statsmodels.stats.outliers_influence import variance_inflation_factor"
      ]
    },
    {
      "cell_type": "markdown",
      "metadata": {},
      "source": [
        "Multicollinearity occurs when there are two or more independent variables in a multiple regression model, which have a high correlation among themselves. When some features are highly correlated, we might have difficulty in distinguishing between their individual effects on the dependent variable. Multicollinearity can be detected using various techniques, one such technique being the Variance Inflation Factor (VIF)."
      ]
    },
    {
      "cell_type": "code",
      "execution_count": 57,
      "metadata": {},
      "outputs": [
        {
          "name": "stdout",
          "output_type": "stream",
          "text": [
            "  feature         VIF\n",
            "0      X1  168.948751\n",
            "1      X2         inf\n",
            "2      X3         inf\n",
            "3      X4         inf\n",
            "4      X5  134.035782\n",
            "5      X6   10.796725\n",
            "6      X7    4.293656\n",
            "7      X8    4.496320\n"
          ]
        },
        {
          "name": "stderr",
          "output_type": "stream",
          "text": [
            "C:\\Users\\rauzan\\AppData\\Roaming\\Python\\Python38\\site-packages\\statsmodels\\stats\\outliers_influence.py:193: RuntimeWarning: divide by zero encountered in double_scalars\n",
            "  vif = 1. / (1. - r_squared_i)\n"
          ]
        }
      ],
      "source": [
        "# VIF dataframe\n",
        "vif_data = pd.DataFrame()\n",
        "vif_data[\"feature\"] = mydata.drop([\"Y1\",\"Y2\"], axis=1).columns\n",
        "  \n",
        "# calculating VIF for each feature\n",
        "vif_data[\"VIF\"] = [variance_inflation_factor(mydata.drop([\"Y1\",\"Y2\"], axis=1).values, i)\n",
        "                          for i in range(len(mydata.drop([\"Y1\",\"Y2\"], axis=1).columns))]\n",
        "                          \n",
        "print(vif_data)"
      ]
    },
    {
      "cell_type": "markdown",
      "metadata": {},
      "source": [
        "## Multiple Linear Regression Model After Droping Multicollinearity Variables"
      ]
    },
    {
      "cell_type": "code",
      "execution_count": null,
      "metadata": {},
      "outputs": [],
      "source": [
        "# define new data\n",
        "Xclean = mydata[[\"X1\",\"X3\",\"X4\",\"X5\",\"X6\",\"X7\",\"X8\"]].to_numpy()\n",
        "Xclean = sm.add_constant(Xclean)\n",
        "\n",
        "# Create a model and fit it\n",
        "model4 = sm.OLS(y, Xclean)\n",
        "results = model4.fit()\n",
        "\n",
        "# Get results\n",
        "print(results.summary())"
      ]
    },
    {
      "cell_type": "markdown",
      "metadata": {},
      "source": [
        "# StepWise, L1, L2, & ElasticNet Regression with scikit-learn ?"
      ]
    }
  ],
  "metadata": {
    "colab": {
      "name": "Colab1-for-deeplearn.ipynb",
      "provenance": [],
      "toc_visible": true
    },
    "kernelspec": {
      "display_name": "Python 3.8.5 ('base')",
      "language": "python",
      "name": "python3"
    },
    "language_info": {
      "codemirror_mode": {
        "name": "ipython",
        "version": 3
      },
      "file_extension": ".py",
      "mimetype": "text/x-python",
      "name": "python",
      "nbconvert_exporter": "python",
      "pygments_lexer": "ipython3",
      "version": "3.8.5"
    },
    "vscode": {
      "interpreter": {
        "hash": "427e8c8ef98cfe94ee571c8ec84ec2e7750375cc752cf4db5f715e91bedfb85f"
      }
    }
  },
  "nbformat": 4,
  "nbformat_minor": 2
}
