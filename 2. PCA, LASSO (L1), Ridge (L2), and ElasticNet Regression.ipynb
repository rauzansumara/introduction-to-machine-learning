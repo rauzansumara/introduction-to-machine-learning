{
  "cells": [
    {
      "cell_type": "markdown",
      "metadata": {},
      "source": [
        "## Provide data"
      ]
    },
    {
      "cell_type": "markdown",
      "metadata": {},
      "source": [
        "**Data Set Information:**\n",
        "We perform energy analysis using 12 different building shapes simulated in Ecotect. The buildings differ with respect to the glazing area, the glazing area distribution, and the orientation, amongst other parameters. We simulate various settings as functions of the afore-mentioned characteristics to obtain 768 building shapes. The dataset comprises 768 samples and 8 features, aiming to predict two real valued responses. It can also be used as a multi-class classification problem if the response is rounded to the nearest integer.\n",
        "\n",
        "**Attribute Information:**\n",
        "The dataset contains eight attributes (or features, denoted by X1...X8) and two responses (or outcomes, denoted by y1 and y2). The aim is to use the eight features to predict each of the two responses.\n",
        "\n",
        "**Specifically:**\n",
        "- X1 Relative Compactness\n",
        "- X2 Surface Area\n",
        "- X3 Wall Area\n",
        "- X4 Roof Area\n",
        "- X5 Overall Height\n",
        "- X6 Orientation\n",
        "- X7 Glazing Area\n",
        "- X8 Glazing Area Distribution\n",
        "- y1 Heating Load\n",
        "- y2 Cooling Load"
      ]
    },
    {
      "cell_type": "code",
      "execution_count": 242,
      "metadata": {},
      "outputs": [],
      "source": [
        "import pandas as pd\n",
        "import numpy as np\n",
        "mydata = pd.read_excel(\"https://archive.ics.uci.edu/ml/machine-learning-databases/00242/ENB2012_data.xlsx\")"
      ]
    },
    {
      "cell_type": "code",
      "execution_count": 243,
      "metadata": {},
      "outputs": [],
      "source": [
        "x = np.array(mydata.X1).reshape((-1, 1))\n",
        "y = np.array(mydata.Y1)"
      ]
    },
    {
      "cell_type": "code",
      "execution_count": 244,
      "metadata": {},
      "outputs": [
        {
          "name": "stdout",
          "output_type": "stream",
          "text": [
            "                            OLS Regression Results                            \n",
            "==============================================================================\n",
            "Dep. Variable:                      y   R-squared:                       0.916\n",
            "Model:                            OLS   Adj. R-squared:                  0.915\n",
            "Method:                 Least Squares   F-statistic:                     1187.\n",
            "Date:                Thu, 20 Oct 2022   Prob (F-statistic):               0.00\n",
            "Time:                        17:17:42   Log-Likelihood:                -1912.5\n",
            "No. Observations:                 768   AIC:                             3841.\n",
            "Df Residuals:                     760   BIC:                             3878.\n",
            "Df Model:                           7                                         \n",
            "Covariance Type:            nonrobust                                         \n",
            "==============================================================================\n",
            "                 coef    std err          t      P>|t|      [0.025      0.975]\n",
            "------------------------------------------------------------------------------\n",
            "const         84.0134     19.034      4.414      0.000      46.649     121.378\n",
            "x1           -64.7734     10.289     -6.295      0.000     -84.973     -44.574\n",
            "x2            -0.0626      0.013     -4.670      0.000      -0.089      -0.036\n",
            "x3             0.0361      0.004      9.386      0.000       0.029       0.044\n",
            "x4            -0.0494      0.008     -6.569      0.000      -0.064      -0.035\n",
            "x5             4.1700      0.338     12.338      0.000       3.506       4.833\n",
            "x6            -0.0233      0.095     -0.246      0.805      -0.209       0.163\n",
            "x7            19.9327      0.814     24.488      0.000      18.335      21.531\n",
            "x8             0.2038      0.070      2.915      0.004       0.067       0.341\n",
            "==============================================================================\n",
            "Omnibus:                       18.647   Durbin-Watson:                   0.654\n",
            "Prob(Omnibus):                  0.000   Jarque-Bera (JB):               37.707\n",
            "Skew:                           0.044   Prob(JB):                     6.49e-09\n",
            "Kurtosis:                       4.082   Cond. No.                     1.09e+16\n",
            "==============================================================================\n",
            "\n",
            "Notes:\n",
            "[1] Standard Errors assume that the covariance matrix of the errors is correctly specified.\n",
            "[2] The smallest eigenvalue is 3.81e-24. This might indicate that there are\n",
            "strong multicollinearity problems or that the design matrix is singular.\n"
          ]
        }
      ],
      "source": [
        "# import library\n",
        "import statsmodels.api as sm\n",
        "\n",
        "# add column of one\n",
        "xwithone = sm.add_constant(x)\n",
        "\n",
        "# define new data\n",
        "X = mydata[[\"X1\",\"X2\",\"X3\",\"X4\",\"X5\",\"X6\",\"X7\",\"X8\"]].to_numpy()\n",
        "X = sm.add_constant(X)\n",
        "\n",
        "# Create a model and fit it\n",
        "model4 = sm.OLS(y, X)\n",
        "results = model4.fit()\n",
        "\n",
        "# Get results\n",
        "print(results.summary())"
      ]
    },
    {
      "cell_type": "markdown",
      "metadata": {},
      "source": [
        "## Detecting Multicollinearity with VIF"
      ]
    },
    {
      "cell_type": "code",
      "execution_count": 245,
      "metadata": {},
      "outputs": [],
      "source": [
        "# import library\n",
        "from statsmodels.stats.outliers_influence import variance_inflation_factor"
      ]
    },
    {
      "cell_type": "markdown",
      "metadata": {},
      "source": [
        "Multicollinearity occurs when there are two or more independent variables in a multiple regression model, which have a high correlation among themselves. When some features are highly correlated, we might have difficulty in distinguishing between their individual effects on the dependent variable. Multicollinearity can be detected using various techniques, one such technique being the Variance Inflation Factor (VIF)."
      ]
    },
    {
      "cell_type": "code",
      "execution_count": 5,
      "metadata": {},
      "outputs": [
        {
          "name": "stdout",
          "output_type": "stream",
          "text": [
            "  feature         VIF\n",
            "0      X1  168.948751\n",
            "1      X2         inf\n",
            "2      X3         inf\n",
            "3      X4         inf\n",
            "4      X5  134.035782\n",
            "5      X6   10.796725\n",
            "6      X7    4.293656\n",
            "7      X8    4.496320\n"
          ]
        },
        {
          "name": "stderr",
          "output_type": "stream",
          "text": [
            "c:\\Users\\rauzan\\anaconda3\\lib\\site-packages\\statsmodels\\stats\\outliers_influence.py:195: RuntimeWarning: divide by zero encountered in double_scalars\n",
            "  vif = 1. / (1. - r_squared_i)\n"
          ]
        }
      ],
      "source": [
        "# VIF dataframe\n",
        "vif_data = pd.DataFrame()\n",
        "vif_data[\"feature\"] = mydata.drop([\"Y1\",\"Y2\"], axis=1).columns\n",
        "  \n",
        "# calculating VIF for each feature\n",
        "vif_data[\"VIF\"] = [variance_inflation_factor(mydata.drop([\"Y1\",\"Y2\"], axis=1).values, i)\n",
        "                          for i in range(len(mydata.drop([\"Y1\",\"Y2\"], axis=1).columns))]\n",
        "                          \n",
        "print(vif_data)"
      ]
    },
    {
      "cell_type": "markdown",
      "metadata": {},
      "source": [
        "## Multiple Linear Regression Model After Droping Multicollinearity Variables"
      ]
    },
    {
      "cell_type": "markdown",
      "metadata": {},
      "source": [
        "we drop variables of X1, X2, X3, and X6"
      ]
    },
    {
      "cell_type": "code",
      "execution_count": 6,
      "metadata": {},
      "outputs": [
        {
          "name": "stdout",
          "output_type": "stream",
          "text": [
            "                            OLS Regression Results                            \n",
            "==============================================================================\n",
            "Dep. Variable:                      y   R-squared:                       0.916\n",
            "Model:                            OLS   Adj. R-squared:                  0.915\n",
            "Method:                 Least Squares   F-statistic:                     1187.\n",
            "Date:                Thu, 20 Oct 2022   Prob (F-statistic):               0.00\n",
            "Time:                        10:28:37   Log-Likelihood:                -1912.5\n",
            "No. Observations:                 768   AIC:                             3841.\n",
            "Df Residuals:                     760   BIC:                             3878.\n",
            "Df Model:                           7                                         \n",
            "Covariance Type:            nonrobust                                         \n",
            "==============================================================================\n",
            "                 coef    std err          t      P>|t|      [0.025      0.975]\n",
            "------------------------------------------------------------------------------\n",
            "const         84.0134     19.034      4.414      0.000      46.649     121.378\n",
            "x1           -64.7734     10.289     -6.295      0.000     -84.973     -44.574\n",
            "x2            -0.0265      0.013     -2.073      0.039      -0.052      -0.001\n",
            "x3            -0.1746      0.034     -5.112      0.000      -0.242      -0.108\n",
            "x4             4.1700      0.338     12.338      0.000       3.506       4.833\n",
            "x5            -0.0233      0.095     -0.246      0.805      -0.209       0.163\n",
            "x6            19.9327      0.814     24.488      0.000      18.335      21.531\n",
            "x7             0.2038      0.070      2.915      0.004       0.067       0.341\n",
            "==============================================================================\n",
            "Omnibus:                       18.647   Durbin-Watson:                   0.654\n",
            "Prob(Omnibus):                  0.000   Jarque-Bera (JB):               37.707\n",
            "Skew:                           0.044   Prob(JB):                     6.49e-09\n",
            "Kurtosis:                       4.082   Cond. No.                     7.46e+04\n",
            "==============================================================================\n",
            "\n",
            "Notes:\n",
            "[1] Standard Errors assume that the covariance matrix of the errors is correctly specified.\n",
            "[2] The condition number is large, 7.46e+04. This might indicate that there are\n",
            "strong multicollinearity or other numerical problems.\n"
          ]
        }
      ],
      "source": [
        "# define new data\n",
        "Xclean = mydata[[\"X1\",\"X3\",\"X4\",\"X5\",\"X6\",\"X7\",\"X8\"]].to_numpy()\n",
        "Xclean = sm.add_constant(Xclean)\n",
        "\n",
        "# Create a model and fit it\n",
        "model4 = sm.OLS(y, Xclean)\n",
        "results = model4.fit()\n",
        "\n",
        "# Get results\n",
        "print(results.summary())"
      ]
    },
    {
      "cell_type": "markdown",
      "metadata": {},
      "source": [
        "# ---------- Continue ----------"
      ]
    },
    {
      "cell_type": "markdown",
      "metadata": {},
      "source": [
        "# <font color = #4854E8> Principal Components (PC) Regression with scikit-learn </font>"
      ]
    },
    {
      "cell_type": "markdown",
      "metadata": {},
      "source": [
        "Principal Component Analysis (PCA) is one of famous techniqeus for dimension reduction, feature extraction, and data visualization. In general, PCA is defined by a transformation of a high dimensional vector space into a low dimensional space. Let's consider visualization of 10-dim data. It is barely possible to effectively show the shape of such high dimensional data distribution. PCA provides an efficient way to reduce the dimensionalty (i.e., from 10 to 2), so it is much easier to visualize the shape of data distribution. PCA is also useful in the modeling of robust classifier where considerably small number of high dimensional training data is provided. By reducing the dimensions of learning data sets, PCA provides an effective and efficient method for data description and classification.\n",
        "\n",
        "**https://www.projectrhea.org/rhea/index.php/PCA_Theory_Examples**"
      ]
    },
    {
      "cell_type": "markdown",
      "metadata": {},
      "source": [
        "## Eigen Values, Eigen Vectors, & Singular Vector Decomposition (SVD)"
      ]
    },
    {
      "cell_type": "markdown",
      "metadata": {},
      "source": [
        "In linear algebra, an eigenvector or characteristic vector of a linear transformation is a nonzero vector that changes at most by a scalar factor when that linear transformation is applied to it. The corresponding eigenvalue, often denoted by lambda , is the factor by which the eigenvector is scaled.\n",
        "\n",
        "![](http://www.sharetechnote.com/image/EngMath_Matrix_Eigen_Eq_02.PNG)\n",
        "\n",
        "We need to make the covariance matrix when we are doing eigendecomposition. For those who are not familiar with eigendecomposition, you can check this out: [Eigendecomposition and PCA](https://www.youtube.com/watch?v=-1iULsGndG8), this video explains the role of the covariance in eigendecomposition thoroughly: [Link 1](https://www.mathsisfun.com/algebra/eigenvalue.html), [Link 2](https://www.youtube.com/watch?v=FgakZw6K1QQ&t=38s), [Link 3](https://www.youtube.com/watch?v=G4N8vJpf7hM)"
      ]
    },
    {
      "cell_type": "code",
      "execution_count": 184,
      "metadata": {},
      "outputs": [],
      "source": [
        "import numpy as np\n",
        "#from sklearn.decomposition import PCA\n",
        "from keras.datasets import mnist"
      ]
    },
    {
      "cell_type": "code",
      "execution_count": 185,
      "metadata": {},
      "outputs": [
        {
          "data": {
            "text/plain": [
              "(60000, 28, 28)"
            ]
          },
          "execution_count": 185,
          "metadata": {},
          "output_type": "execute_result"
        }
      ],
      "source": [
        "# import MNIST dataset\n",
        "(train_X, _), (_, _) = mnist.load_data()\n",
        "train_X.shape"
      ]
    },
    {
      "cell_type": "code",
      "execution_count": 187,
      "metadata": {},
      "outputs": [],
      "source": [
        "# reshape dataset\n",
        "train_X = train_X.reshape(60000,784)"
      ]
    },
    {
      "cell_type": "code",
      "execution_count": 188,
      "metadata": {},
      "outputs": [
        {
          "data": {
            "image/png": "[encoded data removed]",
            "text/plain": [
              "<Figure size 1008x576 with 6 Axes>"
            ]
          },
          "metadata": {
            "needs_background": "light"
          },
          "output_type": "display_data"
        }
      ],
      "source": [
        "import matplotlib.pyplot as plt \n",
        "plt.figure(figsize=(14,8))\n",
        "\n",
        "# calculate cov matrix\n",
        "cov_mat = np.cov(train_X.T)\n",
        "U, S, VT = np.linalg.svd(cov_mat)                    # pca_i = PCA(n_components=i)\n",
        "\n",
        "plot_num = 1\n",
        "for i in [1, 50, 100, 200, 300, 400] :\n",
        "    mnist_reduced = train_X.dot(VT[:i].T)                # mnist_reduced = pca_i.fit_transform(train_X)\n",
        "    mnist_recovered = mnist_reduced.dot(VT[:i])          # mnist_recovered = pca_i.inverse_transform(mnist_reduced)\n",
        "    image_pca = mnist_recovered[1,:].reshape([28,28])\n",
        "    plt.subplot(2, 3, plot_num)\n",
        "    plt.imshow(image_pca, cmap=plt.get_cmap('gray'))\n",
        "    plt.title(\"n_components: {}\".format(i))\n",
        "    plot_num += 1\n",
        "plt.show()"
      ]
    },
    {
      "cell_type": "code",
      "execution_count": 237,
      "metadata": {},
      "outputs": [
        {
          "data": {
            "image/png": "[encoded data removed]",
            "text/plain": [
              "<Figure size 864x360 with 2 Axes>"
            ]
          },
          "metadata": {
            "needs_background": "light"
          },
          "output_type": "display_data"
        }
      ],
      "source": [
        "import matplotlib.pyplot as plt \n",
        "fig, axs = plt.subplots(1,2, figsize=(12,5))\n",
        "\n",
        "# make a bar plot of the eigen values associated with each component\n",
        "axs[0].bar(range(1,201), S[:200], alpha=0.5, align='center', label='Individual explained variance')\n",
        "axs[0].set_ylabel('Eigen Values ')\n",
        "axs[0].set_xlabel('Principal component index')\n",
        "\n",
        "# let's look at the cumulative variance described by each component\n",
        "tot = sum(S)\n",
        "var_exp = [(i / tot) for i in sorted(S, reverse=True)]\n",
        "cum_var_exp = np.cumsum(var_exp)\n",
        "\n",
        "# make a bar plot of the variance associated with each component\n",
        "axs[1].bar(range(1,785), var_exp, alpha=0.5, align='center', label='Individual explained variance')\n",
        "axs[1].step(range(1,785), cum_var_exp, where='mid', label='Cumulative explained variance', color='red')\n",
        "axs[1].set_ylabel('Explained variance ratio')\n",
        "axs[1].set_xlabel('Principal component index')\n",
        "\n",
        "plt.show()"
      ]
    },
    {
      "cell_type": "markdown",
      "metadata": {},
      "source": [
        "We can also calculate the explained variance of 100 components:"
      ]
    },
    {
      "cell_type": "code",
      "execution_count": 241,
      "metadata": {},
      "outputs": [
        {
          "data": {
            "text/plain": [
              "91.5612589731979"
            ]
          },
          "execution_count": 241,
          "metadata": {},
          "output_type": "execute_result"
        }
      ],
      "source": [
        "cum_var_exp[100]*100"
      ]
    },
    {
      "cell_type": "markdown",
      "metadata": {},
      "source": [
        "First, we’ll import the necessary packages to perform principal components regression (PCR) in Python:"
      ]
    },
    {
      "cell_type": "code",
      "execution_count": 250,
      "metadata": {},
      "outputs": [],
      "source": [
        "from sklearn.decomposition import PCA\n",
        "from sklearn.preprocessing import StandardScaler"
      ]
    },
    {
      "cell_type": "markdown",
      "metadata": {},
      "source": [
        "However, when the predictor variables are highly correlated then multicollinearity can become a problem. This can cause the coefficient estimates of the model to be unreliable and have high variance.\n",
        "\n",
        "One way to avoid this problem is to instead use principal components regression, which finds M linear combinations (known as “principal components”) of the original p predictors and then uses least squares to fit a linear regression model using the principal components as predictors.\n",
        "\n",
        "This tutorial provides a step-by-step example of how to perform principal components regression in Python."
      ]
    },
    {
      "cell_type": "markdown",
      "metadata": {},
      "source": [
        "## Standardize the Data\n",
        "PCA is effected by scale so you need to scale the features in your data before applying PCA. Use StandardScaler to help you standardize the dataset’s features onto unit scale (mean = 0 and variance = 1) which is a requirement for the optimal performance of many machine learning algorithms. If you want to see the negative effect not scaling your data can have, scikit-learn has a section on the effects of not standardizing your data."
      ]
    },
    {
      "cell_type": "markdown",
      "metadata": {},
      "source": [
        "$$z_{i} = {{\\ x_{i} - \\bar{x}} \\over \\sigma}$$"
      ]
    },
    {
      "cell_type": "code",
      "execution_count": 251,
      "metadata": {},
      "outputs": [
        {
          "data": {
            "text/plain": [
              "array([[  0.98, 514.5 , 294.  , 110.25,   7.  ,   2.  ,   0.  ,   0.  ],\n",
              "       [  0.98, 514.5 , 294.  , 110.25,   7.  ,   3.  ,   0.  ,   0.  ],\n",
              "       [  0.98, 514.5 , 294.  , 110.25,   7.  ,   4.  ,   0.  ,   0.  ],\n",
              "       [  0.98, 514.5 , 294.  , 110.25,   7.  ,   5.  ,   0.  ,   0.  ],\n",
              "       [  0.9 , 563.5 , 318.5 , 122.5 ,   7.  ,   2.  ,   0.  ,   0.  ]])"
            ]
          },
          "execution_count": 251,
          "metadata": {},
          "output_type": "execute_result"
        }
      ],
      "source": [
        "X = mydata[[\"X1\",\"X2\",\"X3\",\"X4\",\"X5\",\"X6\",\"X7\",\"X8\"]].to_numpy()\n",
        "X[0:5,:]"
      ]
    },
    {
      "cell_type": "code",
      "execution_count": 253,
      "metadata": {},
      "outputs": [
        {
          "data": {
            "text/plain": [
              "array([[ 2.04177671, -1.78587489, -0.56195149, -1.47007664,  1.        ,\n",
              "        -1.34164079, -1.76044698, -1.81457514],\n",
              "       [ 2.04177671, -1.78587489, -0.56195149, -1.47007664,  1.        ,\n",
              "        -0.4472136 , -1.76044698, -1.81457514],\n",
              "       [ 2.04177671, -1.78587489, -0.56195149, -1.47007664,  1.        ,\n",
              "         0.4472136 , -1.76044698, -1.81457514],\n",
              "       [ 2.04177671, -1.78587489, -0.56195149, -1.47007664,  1.        ,\n",
              "         1.34164079, -1.76044698, -1.81457514],\n",
              "       [ 1.28497917, -1.22923856,  0.        , -1.19867787,  1.        ,\n",
              "        -1.34164079, -1.76044698, -1.81457514]])"
            ]
          },
          "execution_count": 253,
          "metadata": {},
          "output_type": "execute_result"
        }
      ],
      "source": [
        "# Standardizing the features\n",
        "x_std = StandardScaler().fit_transform(X)\n",
        "x_std[0:5,:]"
      ]
    },
    {
      "cell_type": "code",
      "execution_count": 254,
      "metadata": {},
      "outputs": [
        {
          "name": "stdout",
          "output_type": "stream",
          "text": [
            "Raw Eigenvalues: \n",
            " [3.70776711e+00 1.24146781e+00 5.28226666e-02 4.46132201e-03\n",
            " 1.80198364e-16 7.88061902e-01 1.21454566e+00 1.00130378e+00]\n",
            "Percentage of Variance Explained by Each Component: \n",
            " [4.62867411e-01 1.54981414e-01 6.59423589e-03 5.56939125e-04\n",
            " 2.24954664e-17 9.83794724e-02 1.51620528e-01 1.25000000e-01]\n"
          ]
        }
      ],
      "source": [
        "# Construct the covariance matrix.\n",
        "cov_mat = np.cov(x_std.T)\n",
        "\n",
        "# From this covariance matrix, caluclate the Eigenvalues and the Eigenvectors\n",
        "eigen_vals, eigen_vecs = np.linalg.eig(cov_mat)\n",
        "\n",
        "# print the Eigenvalues\n",
        "print(\"Raw Eigenvalues: \\n\", eigen_vals)\n",
        "# the sum of the Eigenvalues\n",
        "print(\"Percentage of Variance Explained by Each Component: \\n\", eigen_vals/sum(eigen_vals))"
      ]
    },
    {
      "cell_type": "markdown",
      "metadata": {},
      "source": [
        "Sorting the eigenvalues by decreasing order to rank the eigenvectors and cumulate them to figure out how many PCs are we going to use."
      ]
    },
    {
      "cell_type": "code",
      "execution_count": 255,
      "metadata": {},
      "outputs": [
        {
          "data": {
            "text/plain": [
              "array([0.46286741, 0.61784882, 0.76946935, 0.89446935, 0.99284882,\n",
              "       0.99944306, 1.        , 1.        ])"
            ]
          },
          "execution_count": 255,
          "metadata": {},
          "output_type": "execute_result"
        }
      ],
      "source": [
        "# let's look at the cumulative variance described by each component\n",
        "tot = sum(eigen_vals)\n",
        "var_exp = [(i / tot) for i in sorted(eigen_vals, reverse=True)]\n",
        "cum_var_exp = np.cumsum(var_exp)\n",
        "cum_var_exp"
      ]
    },
    {
      "cell_type": "code",
      "execution_count": 256,
      "metadata": {},
      "outputs": [
        {
          "data": {
            "image/png": "[encoded data removed]",
            "text/plain": [
              "<Figure size 432x288 with 1 Axes>"
            ]
          },
          "metadata": {
            "needs_background": "light"
          },
          "output_type": "display_data"
        }
      ],
      "source": [
        "# make a bar plot of the variance associated with each component\n",
        "plt.bar(range(1,9), var_exp, alpha=0.5, align='center', label='Individual explained variance')\n",
        "plt.step(range(1,9), cum_var_exp, where='mid', label='Cumulative explained variance', color='red')\n",
        "plt.ylabel('Explained variance ratio')\n",
        "plt.xlabel('Principal component index')\n",
        "plt.show()"
      ]
    },
    {
      "cell_type": "markdown",
      "metadata": {},
      "source": [
        "## PCA using sklearn\n",
        "After learning the steps of PCA, we can let sklearn to do the tedious and elaborate work"
      ]
    },
    {
      "cell_type": "code",
      "execution_count": 257,
      "metadata": {},
      "outputs": [
        {
          "name": "stdout",
          "output_type": "stream",
          "text": [
            "sklearn var:\n",
            " [4.62867411e-01 1.54981414e-01 1.51620528e-01 1.25000000e-01\n",
            " 9.83794724e-02 6.59423589e-03 5.56939125e-04 2.19275719e-31]\n"
          ]
        },
        {
          "data": {
            "image/png": "[encoded data removed]",
            "text/plain": [
              "<Figure size 432x288 with 1 Axes>"
            ]
          },
          "metadata": {
            "needs_background": "light"
          },
          "output_type": "display_data"
        }
      ],
      "source": [
        "# define function\n",
        "pca = PCA()\n",
        "\n",
        "# fit_transform() is used to calculate the PCAs from training data\n",
        "X_pca = pca.fit_transform(x_std)\n",
        "\n",
        "# to get the fit statistics (variance explained per component)\n",
        "print(\"sklearn var:\\n\", pca.explained_variance_ratio_)\n",
        "\n",
        "# like we did above visualize the PCs \n",
        "# and the cumulative variance explained by each PC\n",
        "plt.bar(range(1,9), pca.explained_variance_ratio_, alpha=0.5, align='center')\n",
        "plt.step(range(1,9), np.cumsum(pca.explained_variance_ratio_), where='mid', color='red')\n",
        "plt.ylabel('Explained variance ratio')\n",
        "plt.xlabel('Principal Components')\n",
        "plt.show()"
      ]
    },
    {
      "cell_type": "code",
      "execution_count": 258,
      "metadata": {},
      "outputs": [
        {
          "data": {
            "text/plain": [
              "array([[ 0.496, -0.502,  0.033, -0.505,  0.496,  0.   ,  0.   ,  0.   ],\n",
              "       [-0.245,  0.232,  0.894, -0.206,  0.21 , -0.   , -0.   ,  0.   ],\n",
              "       [-0.   , -0.   , -0.   , -0.   , -0.   ,  0.   , -0.707, -0.707],\n",
              "       [ 0.   , -0.   , -0.   ,  0.   ,  0.   , -1.   , -0.   , -0.   ],\n",
              "       [ 0.   , -0.   , -0.   ,  0.   , -0.   , -0.   , -0.707,  0.707],\n",
              "       [ 0.495, -0.066,  0.291, -0.205, -0.79 ,  0.   ,  0.   ,  0.   ],\n",
              "       [-0.67 , -0.505, -0.087, -0.45 , -0.293, -0.   ,  0.   ,  0.   ],\n",
              "       [-0.   , -0.66 ,  0.327,  0.677,  0.   ,  0.   ,  0.   ,  0.   ]])"
            ]
          },
          "execution_count": 258,
          "metadata": {},
          "output_type": "execute_result"
        }
      ],
      "source": [
        "# Function of each component\n",
        "np.around(pca.components_,3)"
      ]
    },
    {
      "cell_type": "code",
      "execution_count": 259,
      "metadata": {},
      "outputs": [
        {
          "data": {
            "text/plain": [
              "array([[ 3.12895415e+00, -9.02373432e-01,  2.52792238e+00, ...,\n",
              "         4.77611838e-01, -4.86937592e-02,  3.60585574e-14],\n",
              "       [ 3.12895415e+00, -9.02373432e-01,  2.52792238e+00, ...,\n",
              "         4.77611838e-01, -4.86937592e-02, -4.46777189e-15],\n",
              "       [ 3.12895415e+00, -9.02373432e-01,  2.52792238e+00, ...,\n",
              "         4.77611838e-01, -4.86937592e-02, -2.80976428e-15],\n",
              "       ...,\n",
              "       [-2.40682619e+00,  1.28785724e+00, -1.87764103e+00, ...,\n",
              "         1.39126500e-01, -1.13649220e-01,  1.93930284e-16],\n",
              "       [-2.40682619e+00,  1.28785724e+00, -1.87764103e+00, ...,\n",
              "         1.39126500e-01, -1.13649220e-01,  2.50280583e-16],\n",
              "       [-2.40682619e+00,  1.28785724e+00, -1.87764103e+00, ...,\n",
              "         1.39126500e-01, -1.13649220e-01,  3.06630881e-16]])"
            ]
          },
          "execution_count": 259,
          "metadata": {},
          "output_type": "execute_result"
        }
      ],
      "source": [
        "# New Features\n",
        "X_pca"
      ]
    },
    {
      "cell_type": "code",
      "execution_count": 260,
      "metadata": {},
      "outputs": [
        {
          "name": "stdout",
          "output_type": "stream",
          "text": [
            "  feature  VIF\n",
            "0     PC1  1.0\n",
            "1     PC2  1.0\n",
            "2     PC3  1.0\n",
            "3     PC4  1.0\n",
            "4     PC5  1.0\n",
            "5     PC6  1.0\n",
            "6     PC7  1.0\n",
            "7     PC8  1.0\n"
          ]
        }
      ],
      "source": [
        "# VIF dataframe\n",
        "vif_data = pd.DataFrame()\n",
        "vif_data[\"feature\"] = [\"PC1\",\"PC2\",\"PC3\",\"PC4\",\"PC5\",\"PC6\",\"PC7\",\"PC8\"]\n",
        "  \n",
        "# calculating VIF for each component\n",
        "vif_data[\"VIF\"] = [variance_inflation_factor(X_pca, i)\n",
        "                          for i in range(8)]\n",
        "                          \n",
        "print(vif_data)"
      ]
    },
    {
      "cell_type": "markdown",
      "metadata": {},
      "source": [
        "## Estimate Principal Component Regression with Statmodels "
      ]
    },
    {
      "cell_type": "code",
      "execution_count": 261,
      "metadata": {},
      "outputs": [
        {
          "name": "stdout",
          "output_type": "stream",
          "text": [
            "                            OLS Regression Results                            \n",
            "==============================================================================\n",
            "Dep. Variable:                      y   R-squared:                       0.916\n",
            "Model:                            OLS   Adj. R-squared:                  0.915\n",
            "Method:                 Least Squares   F-statistic:                     1187.\n",
            "Date:                Thu, 20 Oct 2022   Prob (F-statistic):               0.00\n",
            "Time:                        17:25:01   Log-Likelihood:                -1912.5\n",
            "No. Observations:                 768   AIC:                             3841.\n",
            "Df Residuals:                     760   BIC:                             3878.\n",
            "Df Model:                           7                                         \n",
            "Covariance Type:            nonrobust                                         \n",
            "==============================================================================\n",
            "                 coef    std err          t      P>|t|      [0.025      0.975]\n",
            "------------------------------------------------------------------------------\n",
            "const         22.3072      0.106    210.678      0.000      22.099      22.515\n",
            "x1             4.1669      0.055     75.729      0.000       4.059       4.275\n",
            "x2             3.8027      0.095     39.990      0.000       3.616       3.989\n",
            "x3            -2.0998      0.096    -21.841      0.000      -2.289      -1.911\n",
            "x4             0.0261      0.106      0.246      0.805      -0.182       0.234\n",
            "x5            -1.6531      0.119    -13.851      0.000      -1.887      -1.419\n",
            "x6            -7.8724      0.461    -17.077      0.000      -8.777      -6.967\n",
            "x7             6.0965      1.586      3.843      0.000       2.983       9.210\n",
            "x8          3.461e-16   2.59e-16      1.335      0.182   -1.63e-16    8.55e-16\n",
            "==============================================================================\n",
            "Omnibus:                       18.647   Durbin-Watson:                   0.654\n",
            "Prob(Omnibus):                  0.000   Jarque-Bera (JB):               37.707\n",
            "Skew:                           0.044   Prob(JB):                     6.49e-09\n",
            "Kurtosis:                       4.082   Cond. No.                     1.45e+15\n",
            "==============================================================================\n",
            "\n",
            "Notes:\n",
            "[1] Standard Errors assume that the covariance matrix of the errors is correctly specified.\n",
            "[2] The smallest eigenvalue is 1.34e-27. This might indicate that there are\n",
            "strong multicollinearity problems or that the design matrix is singular.\n"
          ]
        }
      ],
      "source": [
        "## Estimate Principal Component Regression\n",
        "X_pca_withone = sm.add_constant(X_pca)\n",
        "\n",
        "# Create a model and fit it\n",
        "model_pca = sm.OLS(y, X_pca_withone)\n",
        "results = model_pca.fit()\n",
        "\n",
        "# Get results\n",
        "print(results.summary())"
      ]
    },
    {
      "cell_type": "markdown",
      "metadata": {},
      "source": [
        "# <font color = #4854E8> LASSO (L1) Regression with scikit-learn </font>"
      ]
    },
    {
      "cell_type": "markdown",
      "metadata": {},
      "source": [
        "What is Regularization?\n",
        "In a general manner, to make things regular or acceptable is what we mean by the term regularization. This is exactly why we use it for applied machine learning. In the domain of machine learning, regularization is the process which prevents overfitting by discouraging developers learning a more complex or flexible model, and finally, which regularizes or shrinks the coefficients towards zero. The basic idea is to penalize the complex models i.e. adding a complexity term in such a way that it tends to give a bigger loss for evaluating complex models.\n",
        "\n",
        "There are mainly two types of regularization techniques, namely **Lasso Regression (L1 Regularization)** and **Ridge Regression (L2 Regularization)** . The way they assign a penalty to β (coefficients) is what differentiates them from each other.\n",
        "\n",
        "Lasso Regression (L1 Regularization). This regularization technique performs L1 regularization. Unlike Ridge Regression, it modifies the RSS by adding the penalty (shrinkage quantity) equivalent to the sum of the absolute value of coefficients.\n",
        "\n",
        "Looking at the equation below, we can observe that similar to Ridge Regression, Lasso (**Least Absolute Shrinkage and Selection Operator**) also penalizes the absolute size of the regression coefficients. In addition to this, it is quite capable of reducing the variability and improving the accuracy of linear regression models.\n",
        "\n",
        "![](https://datascienceintuition.files.wordpress.com/2018/01/lr1.png)\n",
        "\n",
        "- If the number of predictors (p) is greater than the number of observations (n), Lasso will pick at most n predictors as non-zero, even if all predictors are relevant (or may be used in the test set). In such cases, Lasso sometimes really has to struggle with such types of data.\n",
        "- If there are two or more highly collinear variables, then LASSO regression select one of them which is not good for the interpretation of data.\n",
        "\n",
        "Lasso regression differs from ridge regression in a way that it uses absolute values within the penalty function, rather than that of squares. This leads to penalizing (or equivalently constraining the sum of the absolute values of the estimates) values which causes some of the parameter estimates to turn out exactly zero. The more penalty is applied, the more the estimates get shrunk towards absolute zero. This helps to variable selection out of given range of n variables."
      ]
    },
    {
      "cell_type": "code",
      "execution_count": 268,
      "metadata": {},
      "outputs": [],
      "source": [
        "# Import library\n",
        "from sklearn.linear_model import Lasso"
      ]
    },
    {
      "cell_type": "code",
      "execution_count": 271,
      "metadata": {},
      "outputs": [
        {
          "name": "stdout",
          "output_type": "stream",
          "text": [
            "R Square: 0.9055917500306945\n",
            "Intercept: -25.67199935088815\n",
            "Slope: [-0.00000000e+00  4.01453926e-03  4.81692259e-02 -0.00000000e+00\n",
            "  4.92842241e+00 -0.00000000e+00  1.41309347e+01  2.68281344e-01]\n"
          ]
        }
      ],
      "source": [
        "# Define model\n",
        "lasso_model = Lasso(alpha=0.1, max_iter = 5000)\n",
        "\n",
        "# Fit the Lasso model\n",
        "lasso_model.fit(X, y)\n",
        "\n",
        "# Calculate model score (R square)\n",
        "print(\"R Square:\", lasso_model.score(X, y))\n",
        "\n",
        "# Lasso Coeficients\n",
        "print(\"Intercept:\", lasso_model.intercept_)\n",
        "print(\"Slope:\", lasso_model.coef_)"
      ]
    },
    {
      "cell_type": "markdown",
      "metadata": {},
      "source": [
        "## Estimate LASSO Regression using optimum Alpha"
      ]
    },
    {
      "cell_type": "code",
      "execution_count": 266,
      "metadata": {},
      "outputs": [],
      "source": [
        "# Call function\n",
        "from sklearn.model_selection import GridSearchCV"
      ]
    },
    {
      "cell_type": "markdown",
      "metadata": {},
      "source": [
        "### Using GridSearchCV"
      ]
    },
    {
      "cell_type": "code",
      "execution_count": 284,
      "metadata": {},
      "outputs": [
        {
          "name": "stdout",
          "output_type": "stream",
          "text": [
            "Neg. MSE : -13.502\n",
            "Config best {'alpha': 0.1}\n"
          ]
        }
      ],
      "source": [
        "# define model\n",
        "lasso_model_cv = Lasso(max_iter = 5000)\n",
        "# define grid\n",
        "grid = {'alpha': [0.1,0.2,0.3,0.4,0.5,0.6,0.7,0.8,0.9,1.0]}\n",
        "# define search\n",
        "search = GridSearchCV(lasso_model_cv, grid, scoring=\"neg_mean_squared_error\", cv=5, n_jobs=-1)\n",
        "# perform the search\n",
        "results = search.fit(X, y)\n",
        "# summarize\n",
        "print('Neg. MSE : %.3f' % results.best_score_)\n",
        "print('Config best %s' % results.best_params_)"
      ]
    },
    {
      "cell_type": "code",
      "execution_count": 286,
      "metadata": {},
      "outputs": [
        {
          "data": {
            "text/plain": [
              "Text(0, 0.5, 'Neg. MSE')"
            ]
          },
          "execution_count": 286,
          "metadata": {},
          "output_type": "execute_result"
        },
        {
          "data": {
            "image/png": "[encoded data removed]",
            "text/plain": [
              "<Figure size 432x288 with 1 Axes>"
            ]
          },
          "metadata": {
            "needs_background": "light"
          },
          "output_type": "display_data"
        }
      ],
      "source": [
        "table = pd.pivot_table(pd.DataFrame(results.cv_results_), values='mean_test_score', index='param_alpha')\n",
        "plt.plot(table)\n",
        "plt.xlabel('Alpha')\n",
        "plt.ylabel('Neg. MSE')"
      ]
    },
    {
      "cell_type": "code",
      "execution_count": 300,
      "metadata": {},
      "outputs": [
        {
          "name": "stdout",
          "output_type": "stream",
          "text": [
            "coefficient of determination: 0.9055917500306945\n",
            "intercept: -25.67199935088815\n",
            "slope: [-0.    0.    0.05 -0.    4.93 -0.   14.13  0.27]\n"
          ]
        }
      ],
      "source": [
        "r_sq = results.best_estimator_.score(X, y)\n",
        "print('coefficient of determination:', r_sq)\n",
        "print('intercept:',results.best_estimator_.intercept_)\n",
        "print('slope:', np.round(results.best_estimator_.coef_,2))\n"
      ]
    },
    {
      "cell_type": "markdown",
      "metadata": {},
      "source": [
        "### Using LassoCV function"
      ]
    },
    {
      "cell_type": "code",
      "execution_count": null,
      "metadata": {},
      "outputs": [],
      "source": [
        "# Call function\n",
        "from sklearn.linear_model import LassoCV"
      ]
    },
    {
      "cell_type": "code",
      "execution_count": 302,
      "metadata": {},
      "outputs": [
        {
          "name": "stdout",
          "output_type": "stream",
          "text": [
            "Alpha: 0.1\n",
            "intercept: -25.67199935088815\n",
            "slope: [-0.0000e+00  4.0000e-03  4.8000e-02 -0.0000e+00  4.9280e+00 -0.0000e+00\n",
            "  1.4131e+01  2.6800e-01]\n"
          ]
        }
      ],
      "source": [
        "# define evaluation method of the model\n",
        "lasso_model_cv2 = LassoCV(alphas = [0.1,0.2,0.3,0.4,0.5,0.6,0.7,0.8,0.9,1.0], cv=5, max_iter = 5000).fit(X, y)\n",
        "lasso_model_cv2.score(X, y)\n",
        "print('Alpha:', lasso_model_cv2.alpha_)\n",
        "print('intercept:',lasso_model_cv2.intercept_)\n",
        "print('slope:', np.round(lasso_model_cv2.coef_,3))"
      ]
    },
    {
      "cell_type": "markdown",
      "metadata": {},
      "source": [
        "# <font color = #4854E8> Ridge (L2) Regression with scikit-learn </font>"
      ]
    },
    {
      "cell_type": "markdown",
      "metadata": {},
      "source": [
        "Ridge Regression (L2 Regularization). This technique performs L2 regularization. The main algorithm behind this is to modify the RSS by adding the penalty which is equivalent to the square of the magnitude of coefficients. However, it is considered to be a technique used when the info suffers from multicollinearity (independent variables are highly correlated). In multicollinearity, albeit the smallest amount squares estimates (OLS) are unbiased, their variances are large which deviates the observed value faraway from truth value. By adding a degree of bias to the regression estimates, ridge regression reduces the quality errors. It tends to solve the multicollinearity problem through shrinkage parameter λ. Now, let us have a look at the equation below.\n",
        "\n",
        "![av](https://datascienceintuition.files.wordpress.com/2018/01/re2.png) \n",
        "\n",
        "[Reference](https://www.analyticsinsight.net/intuition-behind-bias-variance-tradeoff-lasso-and-ridge-regression/)\n",
        "\n",
        "In this equation, we have two components. The foremost one denotes the least square term and later one is lambda of the summation of β2 (beta- square) where β is the coefficient. This is added to least square term so as to shrink the parameter to possess a really low variance.\n",
        "\n",
        "Every technique has some pros and cons, so as Ridge regression. It decreases the complexity of a model but does not reduce the number of variables since it never leads to a coefficient tending to zero rather only minimizes it. Hence, this model is not a good fit for feature reduction."
      ]
    },
    {
      "cell_type": "code",
      "execution_count": 303,
      "metadata": {},
      "outputs": [],
      "source": [
        "# Import library\n",
        "from sklearn.linear_model import Ridge"
      ]
    },
    {
      "cell_type": "code",
      "execution_count": 309,
      "metadata": {},
      "outputs": [
        {
          "name": "stdout",
          "output_type": "stream",
          "text": [
            "Neg. RMSE : -3.205\n",
            "Config best {'alpha': 0.1}\n"
          ]
        }
      ],
      "source": [
        "# define model\n",
        "ridge_model_cv = Ridge(max_iter=5000)\n",
        "# define grid\n",
        "grid = {'alpha': [0.1,0.2,0.3,0.4,0.5,0.6,0.7,0.8,0.9,1.0]}\n",
        "# define search\n",
        "search = GridSearchCV(ridge_model_cv, grid, scoring=\"neg_root_mean_squared_error\", cv=5, n_jobs=-1)\n",
        "# perform the search\n",
        "results = search.fit(X, y)\n",
        "# summarize\n",
        "print('Neg. RMSE : %.3f' % results.best_score_)\n",
        "print('Config best %s' % results.best_params_)"
      ]
    },
    {
      "cell_type": "code",
      "execution_count": 310,
      "metadata": {},
      "outputs": [
        {
          "name": "stdout",
          "output_type": "stream",
          "text": [
            "coefficient of determination: 0.9148735698191437\n",
            "intercept: 19.11255861166554\n",
            "slope: [-2.911e+01 -2.000e-02  3.000e-02 -3.000e-02  4.920e+00 -2.000e-02\n",
            "  1.978e+01  2.100e-01]\n"
          ]
        }
      ],
      "source": [
        "r_sq = results.best_estimator_.score(X, y)\n",
        "print('coefficient of determination:', r_sq)\n",
        "print('intercept:',results.best_estimator_.intercept_)\n",
        "print('slope:',np.round(results.best_estimator_.coef_,2))"
      ]
    },
    {
      "cell_type": "markdown",
      "metadata": {},
      "source": [
        "### Using RidgeCV function"
      ]
    },
    {
      "cell_type": "code",
      "execution_count": 312,
      "metadata": {},
      "outputs": [],
      "source": [
        "# call function\n",
        "from sklearn.linear_model import RidgeCV"
      ]
    },
    {
      "cell_type": "code",
      "execution_count": 316,
      "metadata": {},
      "outputs": [
        {
          "name": "stdout",
          "output_type": "stream",
          "text": [
            "Alpha: 0.1\n",
            "intercept: 19.11255861166554\n",
            "slope: [-2.911e+01 -2.000e-02  3.000e-02 -3.000e-02  4.920e+00 -2.000e-02\n",
            "  1.978e+01  2.100e-01]\n"
          ]
        }
      ],
      "source": [
        "# define evaluation method of the model\n",
        "ridge_model_cv2 = RidgeCV(alphas = [0.1,0.2,0.3,0.4,0.5,0.6,0.7,0.8,0.9,1.0], cv=5, scoring=\"neg_root_mean_squared_error\").fit(X, y)\n",
        "ridge_model_cv2.score(X, y)\n",
        "print('Alpha:', ridge_model_cv2.alpha_)\n",
        "print('intercept:',ridge_model_cv2.intercept_)\n",
        "print('slope:',np.round(ridge_model_cv2.coef_,2))"
      ]
    },
    {
      "cell_type": "markdown",
      "metadata": {},
      "source": [
        "# <font color = #4854E8> Elastic Net Regression with scikit-learn </font>"
      ]
    },
    {
      "cell_type": "markdown",
      "metadata": {},
      "source": [
        "The main purpose of ElasticNet Regression is to find the coefficients that minimize the sum of error squares by applying a penalty to these coefficients. ElasticNet combines L1 and L2 (Lasso and Ridge) approaches. As a result, it performs a more efficient smoothing process. In another source, it is said that Elastic Net first emerged as a result of critique on Lasso, whose variable selection can be too dependent on data and thus unstable. The solution is to combine the penalties of Ridge regression and Lasso to get the best of both worlds.\n",
        "\n",
        "**Features of ElasticNet Regression:**\n",
        "- It combines the L1 and L2 approaches.\n",
        "- It performs a more efficient regularization process.\n",
        "- It has two parameters to be set, λ and α.\n",
        "\n",
        "The elastic net method improves on lasso’s limitations, i.e., where lasso takes a few samples for high dimensional data, the elastic net procedure provides the inclusion of “n” number of variables until saturation. In a case where the variables are highly correlated groups, lasso tends to choose one variable from such groups and ignore the rest entirely. Elastic Net aims at minimizing the following loss function:"
      ]
    },
    {
      "cell_type": "markdown",
      "metadata": {},
      "source": [
        "![](https://miro.medium.com/max/589/1*XjDc54wcUkLcnSXmYjIH4Q.png)"
      ]
    },
    {
      "cell_type": "markdown",
      "metadata": {},
      "source": [
        "Now let’s build a ElasticNet Regression model on a sample data set. And then let’s calculate the square root of the model’s Mean Squared Error This will give us the model error. First of all, we import the libraries necessary for modeling as usual."
      ]
    },
    {
      "cell_type": "code",
      "execution_count": 318,
      "metadata": {},
      "outputs": [],
      "source": [
        "# Import library\n",
        "from sklearn.linear_model import ElasticNet"
      ]
    },
    {
      "cell_type": "code",
      "execution_count": 320,
      "metadata": {},
      "outputs": [
        {
          "name": "stdout",
          "output_type": "stream",
          "text": [
            "Neg. RMSE : -3.532\n",
            "Config best {'alpha': 0.1, 'l1_ratio': 1.0}\n"
          ]
        }
      ],
      "source": [
        "# define model\n",
        "elastic_model_cv = ElasticNet(max_iter=5000)\n",
        "# define grid\n",
        "grid = {'alpha': [0.1,0.2,0.3,0.4,0.5,0.6,0.7,0.8,0.9,1.0],'l1_ratio': [0.1,0.2,0.3,0.4,0.5,0.6,0.7,0.8,0.9,1.0]}\n",
        "# define search\n",
        "search = GridSearchCV(elastic_model_cv, grid, scoring=\"neg_root_mean_squared_error\", cv=5, n_jobs=-1)\n",
        "# perform the search\n",
        "results = search.fit(X, y)\n",
        "# summarize\n",
        "print('Neg. RMSE : %.3f' % results.best_score_)\n",
        "print('Config best %s' % results.best_params_)"
      ]
    },
    {
      "cell_type": "code",
      "execution_count": 322,
      "metadata": {},
      "outputs": [
        {
          "name": "stdout",
          "output_type": "stream",
          "text": [
            "coefficient of determination: 0.9055917500306945\n",
            "intercept: -25.67199935088815\n",
            "slope: [-0.00000e+00  4.00000e-03  4.82000e-02 -0.00000e+00  4.92840e+00\n",
            " -0.00000e+00  1.41309e+01  2.68300e-01]\n"
          ]
        }
      ],
      "source": [
        "r_sq = results.best_estimator_.score(X, y)\n",
        "print('coefficient of determination:', r_sq)\n",
        "print('intercept:',results.best_estimator_.intercept_)\n",
        "print('slope:', np.round(results.best_estimator_.coef_,4))"
      ]
    },
    {
      "cell_type": "markdown",
      "metadata": {},
      "source": [
        "# <font color = #4854E8> StepWise Regression ? </font>"
      ]
    }
  ],
  "metadata": {
    "colab": {
      "name": "Colab1-for-deeplearn.ipynb",
      "provenance": [],
      "toc_visible": true
    },
    "kernelspec": {
      "display_name": "Python 3.8.5 ('base')",
      "language": "python",
      "name": "python3"
    },
    "language_info": {
      "codemirror_mode": {
        "name": "ipython",
        "version": 3
      },
      "file_extension": ".py",
      "mimetype": "text/x-python",
      "name": "python",
      "nbconvert_exporter": "python",
      "pygments_lexer": "ipython3",
      "version": "3.8.5"
    },
    "vscode": {
      "interpreter": {
        "hash": "427e8c8ef98cfe94ee571c8ec84ec2e7750375cc752cf4db5f715e91bedfb85f"
      }
    }
  },
  "nbformat": 4,
  "nbformat_minor": 2
}
