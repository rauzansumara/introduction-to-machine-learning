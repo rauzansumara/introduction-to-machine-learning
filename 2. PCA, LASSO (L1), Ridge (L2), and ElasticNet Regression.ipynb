{
  "cells": [
    {
      "cell_type": "markdown",
      "metadata": {
        "colab_type": "text",
        "id": "ZIAkIlfmCe1B"
      },
      "source": [
        "# Simple Linear Regression With scikit-learn"
      ]
    },
    {
      "cell_type": "markdown",
      "metadata": {},
      "source": [
        "Let’s start with the simplest case, which is simple linear regression.\n",
        "\n",
        "There are five basic steps when you’re implementing linear regression:\n",
        "\n",
        "1. Import the packages and classes you need.\n",
        "2. Provide data to work with and eventually do appropriate transformations.\n",
        "3. Create a regression model and fit it with existing data.\n",
        "4. Check the results of model fitting to know whether the model is satisfactory.\n",
        "5. Apply the model for predictions.\n",
        "\n",
        "These steps are more or less general for most of the regression approaches and implementations."
      ]
    },
    {
      "cell_type": "markdown",
      "metadata": {
        "colab_type": "text",
        "id": "DzbtdRcZDO9B"
      },
      "source": [
        "## Step 1: Imports\n",
        "\n",
        "The first step is to import the package numpy and the class LinearRegression from sklearn.linear_model:"
      ]
    },
    {
      "cell_type": "code",
      "execution_count": 9,
      "metadata": {},
      "outputs": [],
      "source": [
        "import numpy as np\n",
        "from sklearn.linear_model import LinearRegression"
      ]
    },
    {
      "cell_type": "markdown",
      "metadata": {},
      "source": [
        "Now, you have all the functionalities you need to implement linear regression.\n",
        "\n",
        "The fundamental data type of NumPy is the array type called numpy.ndarray. The rest of this article uses the term array to refer to instances of the type numpy.ndarray.\n",
        "\n",
        "The class sklearn.linear_model.LinearRegression will be used to perform linear and polynomial regression and make predictions accordingly."
      ]
    },
    {
      "cell_type": "markdown",
      "metadata": {},
      "source": [
        "## Step 2: Provide data"
      ]
    },
    {
      "cell_type": "markdown",
      "metadata": {},
      "source": [
        "**Data Set Information:**\n",
        "We perform energy analysis using 12 different building shapes simulated in Ecotect. The buildings differ with respect to the glazing area, the glazing area distribution, and the orientation, amongst other parameters. We simulate various settings as functions of the afore-mentioned characteristics to obtain 768 building shapes. The dataset comprises 768 samples and 8 features, aiming to predict two real valued responses. It can also be used as a multi-class classification problem if the response is rounded to the nearest integer.\n",
        "\n",
        "**Attribute Information:**\n",
        "The dataset contains eight attributes (or features, denoted by X1...X8) and two responses (or outcomes, denoted by y1 and y2). The aim is to use the eight features to predict each of the two responses.\n",
        "\n",
        "**Specifically:**\n",
        "- X1 Relative Compactness\n",
        "- X2 Surface Area\n",
        "- X3 Wall Area\n",
        "- X4 Roof Area\n",
        "- X5 Overall Height\n",
        "- X6 Orientation\n",
        "- X7 Glazing Area\n",
        "- X8 Glazing Area Distribution\n",
        "- y1 Heating Load\n",
        "- y2 Cooling Load"
      ]
    },
    {
      "cell_type": "code",
      "execution_count": 10,
      "metadata": {},
      "outputs": [],
      "source": [
        "import pandas as pd\n",
        "mydata = pd.read_excel(\"https://archive.ics.uci.edu/ml/machine-learning-databases/00242/ENB2012_data.xlsx\")"
      ]
    },
    {
      "cell_type": "code",
      "execution_count": 11,
      "metadata": {},
      "outputs": [
        {
          "data": {
            "text/plain": [
              "Index(['X1', 'X2', 'X3', 'X4', 'X5', 'X6', 'X7', 'X8', 'Y1', 'Y2'], dtype='object')"
            ]
          },
          "execution_count": 11,
          "metadata": {},
          "output_type": "execute_result"
        }
      ],
      "source": [
        "mydata.columns"
      ]
    },
    {
      "cell_type": "code",
      "execution_count": 12,
      "metadata": {},
      "outputs": [
        {
          "data": {
            "text/plain": [
              "Text(0, 0.5, 'y')"
            ]
          },
          "execution_count": 12,
          "metadata": {},
          "output_type": "execute_result"
        },
        {
          "data": {
            "image/png": "[encoded data removed]",
            "text/plain": [
              "<Figure size 432x288 with 1 Axes>"
            ]
          },
          "metadata": {
            "needs_background": "light"
          },
          "output_type": "display_data"
        }
      ],
      "source": [
        "import matplotlib.pyplot as plt\n",
        "plt.scatter(mydata.X1, mydata.Y1)\n",
        "plt.xlabel('x1')\n",
        "plt.ylabel('y')"
      ]
    },
    {
      "cell_type": "code",
      "execution_count": 13,
      "metadata": {},
      "outputs": [],
      "source": [
        "x = np.array(mydata.X1).reshape((-1, 1))\n",
        "y = np.array(mydata.Y1)"
      ]
    },
    {
      "cell_type": "markdown",
      "metadata": {},
      "source": [
        "Now, you have two arrays: the input x and output y. You should call .reshape() on x because this array is required to be two-dimensional, or to be more precise, to have one column and as many rows as necessary. That’s exactly what the argument (-1, 1) of .reshape() specifies."
      ]
    },
    {
      "cell_type": "markdown",
      "metadata": {},
      "source": [
        "## Step 3: Create a model and fit it"
      ]
    },
    {
      "cell_type": "markdown",
      "metadata": {},
      "source": [
        "This statement creates the variable model as the instance of LinearRegression. You can provide several optional parameters to LinearRegression:\n",
        "\n",
        "- fit_intercept is a Boolean (True by default) that decides whether to calculate the intercept 𝑏₀ (True) or consider it equal to zero (False).\n",
        "- normalize is a Boolean (False by default) that decides whether to normalize the input variables (True) or not (False).\n",
        "- copy_X is a Boolean (True by default) that decides whether to copy (True) or overwrite the input variables (False).\n",
        "- n_jobs is an integer or None (default) and represents the number of jobs used in parallel computation. None usually means one job and -1 to use all processors.\n",
        "This example uses the default values of all parameters."
      ]
    },
    {
      "cell_type": "code",
      "execution_count": 14,
      "metadata": {},
      "outputs": [
        {
          "data": {
            "text/plain": [
              "LinearRegression()"
            ]
          },
          "execution_count": 14,
          "metadata": {},
          "output_type": "execute_result"
        }
      ],
      "source": [
        "model = LinearRegression()\n",
        "model.fit(x, y)"
      ]
    },
    {
      "cell_type": "markdown",
      "metadata": {},
      "source": [
        "With .fit(), you calculate the optimal values of the weights 𝑏₀ and 𝑏₁, using the existing input and output (x and y) as the arguments. In other words, .fit() fits the model."
      ]
    },
    {
      "cell_type": "markdown",
      "metadata": {},
      "source": [
        "## Step 4: Get results"
      ]
    },
    {
      "cell_type": "code",
      "execution_count": 15,
      "metadata": {},
      "outputs": [
        {
          "name": "stdout",
          "output_type": "stream",
          "text": [
            "coefficient of determination: 0.3872223619321592\n",
            "intercept: -23.053014060655016\n",
            "slope: [59.35905261]\n"
          ]
        }
      ],
      "source": [
        "r_sq = model.score(x, y)\n",
        "print('coefficient of determination:', r_sq)\n",
        "print('intercept:', model.intercept_)\n",
        "print('slope:', model.coef_)"
      ]
    },
    {
      "cell_type": "markdown",
      "metadata": {},
      "source": [
        "When you’re applying .score(), the arguments are also the predictor x and regressor y, and the return value is 𝑅².\n",
        "The code above illustrates how to get 𝑏₀ and 𝑏₁. You can notice that .intercept_ is a scalar, while .coef_ is an array."
      ]
    },
    {
      "cell_type": "markdown",
      "metadata": {},
      "source": [
        "## Step 5: Predict response"
      ]
    },
    {
      "cell_type": "code",
      "execution_count": 16,
      "metadata": {},
      "outputs": [
        {
          "name": "stdout",
          "output_type": "stream",
          "text": [
            "predicted response:\n",
            "[24.43422803 30.37013329 36.30603855]\n"
          ]
        }
      ],
      "source": [
        "y_pred = model.predict([[0.8],[0.9],[1.0]])\n",
        "print('predicted response:', y_pred, sep='\\n')"
      ]
    },
    {
      "cell_type": "markdown",
      "metadata": {},
      "source": [
        "# Linier Regression With Keras Tansorflow"
      ]
    },
    {
      "cell_type": "code",
      "execution_count": 17,
      "metadata": {
        "colab": {},
        "colab_type": "code",
        "id": "X9uIpOS2zx7k"
      },
      "outputs": [],
      "source": [
        "import tensorflow as tf\n",
        "import keras"
      ]
    },
    {
      "cell_type": "markdown",
      "metadata": {
        "colab_type": "text",
        "id": "wwJGmDrQ0EoB"
      },
      "source": [
        "## Step 1: Define and Compile the Neural Network\n",
        "\n",
        "Next we will create the simplest possible neural network. It has 1 layer, and that layer has 1 neuron, and the input shape to it is just 1 value."
      ]
    },
    {
      "cell_type": "code",
      "execution_count": 18,
      "metadata": {
        "colab": {},
        "colab_type": "code",
        "id": "kQFAr_xo0M4T"
      },
      "outputs": [
        {
          "data": {
            "text/plain": [
              "<tensorflow.python.keras.callbacks.History at 0x188225a2850>"
            ]
          },
          "execution_count": 18,
          "metadata": {},
          "output_type": "execute_result"
        }
      ],
      "source": [
        "model2 = tf.keras.Sequential([keras.layers.Dense(units=1, input_shape=[1])])\n",
        "model2.compile(optimizer='sgd', loss='mean_squared_error')\n",
        "model2.fit(x, y, epochs=2000, verbose=0)"
      ]
    },
    {
      "cell_type": "markdown",
      "metadata": {},
      "source": [
        "## Step 2: Obtain Parameters/weights"
      ]
    },
    {
      "cell_type": "code",
      "execution_count": 19,
      "metadata": {},
      "outputs": [
        {
          "data": {
            "text/plain": [
              "[<tf.Variable 'dense/kernel:0' shape=(1, 1) dtype=float32, numpy=array([[59.273663]], dtype=float32)>,\n",
              " <tf.Variable 'dense/bias:0' shape=(1,) dtype=float32, numpy=array([-23.040773], dtype=float32)>]"
            ]
          },
          "execution_count": 19,
          "metadata": {},
          "output_type": "execute_result"
        }
      ],
      "source": [
        "model2.weights"
      ]
    },
    {
      "cell_type": "markdown",
      "metadata": {},
      "source": [
        "## Step 3: Predict response"
      ]
    },
    {
      "cell_type": "code",
      "execution_count": 20,
      "metadata": {
        "colab": {},
        "colab_type": "code",
        "id": "oxNzL4lS2Gui"
      },
      "outputs": [
        {
          "name": "stdout",
          "output_type": "stream",
          "text": [
            "[[24.378157]\n",
            " [30.305521]\n",
            " [36.232887]]\n"
          ]
        }
      ],
      "source": [
        "print(model2.predict([[0.8],[0.9],[1.0]]))"
      ]
    },
    {
      "cell_type": "markdown",
      "metadata": {},
      "source": [
        "# Advanced Linear Regression With statsmodels"
      ]
    },
    {
      "cell_type": "markdown",
      "metadata": {},
      "source": [
        "You can implement linear regression in Python relatively easily by using the package statsmodels as well. Typically, this is desirable when there is a need for more detailed results.\n",
        "\n",
        "The procedure is similar to that of scikit-learn."
      ]
    },
    {
      "cell_type": "code",
      "execution_count": 21,
      "metadata": {},
      "outputs": [],
      "source": [
        "# import library\n",
        "import statsmodels.api as sm\n",
        "\n",
        "# add column of one\n",
        "xwithone = sm.add_constant(x)"
      ]
    },
    {
      "cell_type": "markdown",
      "metadata": {},
      "source": [
        "You need to add the column of ones to the inputs if you want statsmodels to calculate the intercept 𝑏₀. It doesn’t takes 𝑏₀ into account by default. That’s how you add the column of ones to x with add_constant(). It takes the input array x as an argument and returns a new array with the column of ones inserted at the beginning."
      ]
    },
    {
      "cell_type": "code",
      "execution_count": 22,
      "metadata": {},
      "outputs": [],
      "source": [
        "# Create a model and fit it\n",
        "model3 = sm.OLS(y, xwithone)\n",
        "results = model3.fit()"
      ]
    },
    {
      "cell_type": "markdown",
      "metadata": {},
      "source": [
        "You should be careful here! Please, notice that the first argument is the output, followed with the input. There are several more optional parameters.\n",
        "\n",
        "By calling .fit(), you obtain the variable results, which is an instance of the class statsmodels.regression.linear_model.RegressionResultsWrapper. This object holds a lot of information about the regression model."
      ]
    },
    {
      "cell_type": "code",
      "execution_count": 23,
      "metadata": {},
      "outputs": [
        {
          "name": "stdout",
          "output_type": "stream",
          "text": [
            "                            OLS Regression Results                            \n",
            "==============================================================================\n",
            "Dep. Variable:                      y   R-squared:                       0.387\n",
            "Model:                            OLS   Adj. R-squared:                  0.386\n",
            "Method:                 Least Squares   F-statistic:                     484.0\n",
            "Date:                Sun, 24 Oct 2021   Prob (F-statistic):           1.59e-83\n",
            "Time:                        22:11:51   Log-Likelihood:                -2676.5\n",
            "No. Observations:                 768   AIC:                             5357.\n",
            "Df Residuals:                     766   BIC:                             5366.\n",
            "Df Model:                           1                                         \n",
            "Covariance Type:            nonrobust                                         \n",
            "==============================================================================\n",
            "                 coef    std err          t      P>|t|      [0.025      0.975]\n",
            "------------------------------------------------------------------------------\n",
            "const        -23.0530      2.081    -11.076      0.000     -27.139     -18.967\n",
            "x1            59.3591      2.698     22.001      0.000      54.063      64.655\n",
            "==============================================================================\n",
            "Omnibus:                       53.989   Durbin-Watson:                   0.305\n",
            "Prob(Omnibus):                  0.000   Jarque-Bera (JB):               64.326\n",
            "Skew:                           0.708   Prob(JB):                     1.08e-14\n",
            "Kurtosis:                       3.059   Cond. No.                         15.0\n",
            "==============================================================================\n",
            "\n",
            "Notes:\n",
            "[1] Standard Errors assume that the covariance matrix of the errors is correctly specified.\n"
          ]
        }
      ],
      "source": [
        "# Get results\n",
        "print(results.summary())"
      ]
    },
    {
      "cell_type": "markdown",
      "metadata": {},
      "source": [
        "## Multiple Linear Regression With statmodels"
      ]
    },
    {
      "cell_type": "code",
      "execution_count": 24,
      "metadata": {},
      "outputs": [
        {
          "name": "stdout",
          "output_type": "stream",
          "text": [
            "                            OLS Regression Results                            \n",
            "==============================================================================\n",
            "Dep. Variable:                      y   R-squared:                       0.916\n",
            "Model:                            OLS   Adj. R-squared:                  0.915\n",
            "Method:                 Least Squares   F-statistic:                     1187.\n",
            "Date:                Sun, 24 Oct 2021   Prob (F-statistic):               0.00\n",
            "Time:                        22:11:51   Log-Likelihood:                -1912.5\n",
            "No. Observations:                 768   AIC:                             3841.\n",
            "Df Residuals:                     760   BIC:                             3878.\n",
            "Df Model:                           7                                         \n",
            "Covariance Type:            nonrobust                                         \n",
            "==============================================================================\n",
            "                 coef    std err          t      P>|t|      [0.025      0.975]\n",
            "------------------------------------------------------------------------------\n",
            "const         84.0134     19.034      4.414      0.000      46.649     121.378\n",
            "x1           -64.7734     10.289     -6.295      0.000     -84.973     -44.574\n",
            "x2            -0.0626      0.013     -4.670      0.000      -0.089      -0.036\n",
            "x3             0.0361      0.004      9.386      0.000       0.029       0.044\n",
            "x4            -0.0494      0.008     -6.569      0.000      -0.064      -0.035\n",
            "x5             4.1700      0.338     12.338      0.000       3.506       4.833\n",
            "x6            -0.0233      0.095     -0.246      0.805      -0.209       0.163\n",
            "x7            19.9327      0.814     24.488      0.000      18.335      21.531\n",
            "x8             0.2038      0.070      2.915      0.004       0.067       0.341\n",
            "==============================================================================\n",
            "Omnibus:                       18.647   Durbin-Watson:                   0.654\n",
            "Prob(Omnibus):                  0.000   Jarque-Bera (JB):               37.707\n",
            "Skew:                           0.044   Prob(JB):                     6.49e-09\n",
            "Kurtosis:                       4.082   Cond. No.                     3.35e+15\n",
            "==============================================================================\n",
            "\n",
            "Notes:\n",
            "[1] Standard Errors assume that the covariance matrix of the errors is correctly specified.\n",
            "[2] The smallest eigenvalue is 4.04e-23. This might indicate that there are\n",
            "strong multicollinearity problems or that the design matrix is singular.\n"
          ]
        }
      ],
      "source": [
        "# define new data\n",
        "X = mydata[[\"X1\",\"X2\",\"X3\",\"X4\",\"X5\",\"X6\",\"X7\",\"X8\"]].to_numpy()\n",
        "Xwithone = sm.add_constant(X)\n",
        "\n",
        "# Create a model and fit it\n",
        "model4 = sm.OLS(y, Xwithone)\n",
        "results = model4.fit()\n",
        "\n",
        "# Get results\n",
        "print(results.summary())"
      ]
    },
    {
      "cell_type": "markdown",
      "metadata": {},
      "source": [
        "## Detecting Multicollinearity with VIF"
      ]
    },
    {
      "cell_type": "code",
      "execution_count": 25,
      "metadata": {},
      "outputs": [],
      "source": [
        "# import library\n",
        "from statsmodels.stats.outliers_influence import variance_inflation_factor"
      ]
    },
    {
      "cell_type": "markdown",
      "metadata": {},
      "source": [
        "Multicollinearity occurs when there are two or more independent variables in a multiple regression model, which have a high correlation among themselves. When some features are highly correlated, we might have difficulty in distinguishing between their individual effects on the dependent variable. Multicollinearity can be detected using various techniques, one such technique being the Variance Inflation Factor (VIF)."
      ]
    },
    {
      "cell_type": "code",
      "execution_count": 26,
      "metadata": {},
      "outputs": [
        {
          "name": "stdout",
          "output_type": "stream",
          "text": [
            "  feature       VIF\n",
            "0      X4  5.245242\n",
            "1      X5  4.544944\n",
            "2      X7  4.284222\n",
            "3      X8  4.485473\n"
          ]
        }
      ],
      "source": [
        "# VIF dataframe\n",
        "vif_data = pd.DataFrame()\n",
        "vif_data[\"feature\"] = mydata.drop([\"X1\",\"X2\",\"X3\",\"X6\",\"Y1\",\"Y2\"], axis=1).columns\n",
        "  \n",
        "# calculating VIF for each feature\n",
        "vif_data[\"VIF\"] = [variance_inflation_factor(mydata.drop([\"X1\",\"X2\",\"X3\",\"X6\",\"Y1\",\"Y2\"], axis=1).values, i)\n",
        "                          for i in range(len(mydata.drop([\"X1\",\"X2\",\"X3\",\"X6\",\"Y1\",\"Y2\"], axis=1).columns))]\n",
        "                          \n",
        "print(vif_data)"
      ]
    },
    {
      "cell_type": "markdown",
      "metadata": {},
      "source": [
        "## Multiple Linear Regression Model After Droping Multicollinearity Variables"
      ]
    },
    {
      "cell_type": "markdown",
      "metadata": {},
      "source": [
        "we drop variables of X1,X2,X3, and X6"
      ]
    },
    {
      "cell_type": "code",
      "execution_count": 27,
      "metadata": {},
      "outputs": [
        {
          "name": "stdout",
          "output_type": "stream",
          "text": [
            "                            OLS Regression Results                            \n",
            "==============================================================================\n",
            "Dep. Variable:                      y   R-squared:                       0.865\n",
            "Model:                            OLS   Adj. R-squared:                  0.864\n",
            "Method:                 Least Squares   F-statistic:                     1222.\n",
            "Date:                Sun, 24 Oct 2021   Prob (F-statistic):               0.00\n",
            "Time:                        22:11:51   Log-Likelihood:                -2095.5\n",
            "No. Observations:                 768   AIC:                             4201.\n",
            "Df Residuals:                     763   BIC:                             4224.\n",
            "Df Model:                           4                                         \n",
            "Covariance Type:            nonrobust                                         \n",
            "==============================================================================\n",
            "                 coef    std err          t      P>|t|      [0.025      0.975]\n",
            "------------------------------------------------------------------------------\n",
            "const        -13.8501      3.969     -3.490      0.001     -21.641      -6.059\n",
            "x1             0.0130      0.013      1.018      0.309      -0.012       0.038\n",
            "x2             5.4509      0.329     16.562      0.000       4.805       6.097\n",
            "x3            19.9327      1.031     19.333      0.000      17.909      21.957\n",
            "x4             0.2038      0.089      2.301      0.022       0.030       0.378\n",
            "==============================================================================\n",
            "Omnibus:                        9.852   Durbin-Watson:                   0.458\n",
            "Prob(Omnibus):                  0.007   Jarque-Bera (JB):               10.106\n",
            "Skew:                           0.278   Prob(JB):                      0.00639\n",
            "Kurtosis:                       2.915   Cond. No.                     5.42e+03\n",
            "==============================================================================\n",
            "\n",
            "Notes:\n",
            "[1] Standard Errors assume that the covariance matrix of the errors is correctly specified.\n",
            "[2] The condition number is large, 5.42e+03. This might indicate that there are\n",
            "strong multicollinearity or other numerical problems.\n"
          ]
        }
      ],
      "source": [
        "# define new data\n",
        "Xclean = mydata[[\"X4\",\"X5\",\"X7\",\"X8\"]].to_numpy()\n",
        "Xclean = sm.add_constant(Xclean)\n",
        "\n",
        "# Create a model and fit it\n",
        "model4 = sm.OLS(y, Xclean)\n",
        "results = model4.fit()\n",
        "\n",
        "# Get results\n",
        "print(results.summary())"
      ]
    },
    {
      "cell_type": "markdown",
      "metadata": {},
      "source": [
        "# ---------- Continue ----------"
      ]
    },
    {
      "cell_type": "markdown",
      "metadata": {},
      "source": [
        "## Principal Components (PC) Regression with scikit-learn"
      ]
    },
    {
      "cell_type": "markdown",
      "metadata": {},
      "source": [
        "Principal Component Analysis (PCA) is one of famous techniqeus for dimension reduction, feature extraction, and data visualization. In general, PCA is defined by a transformation of a high dimensional vector space into a low dimensional space. Let's consider visualization of 10-dim data. It is barely possible to effectively show the shape of such high dimensional data distribution. PCA provides an efficient way to reduce the dimensionalty (i.e., from 10 to 2), so it is much easier to visualize the shape of data distribution. PCA is also useful in the modeling of robust classifier where considerably small number of high dimensional training data is provided. By reducing the dimensions of learning data sets, PCA provides an effective and efficient method for data description and classification.\n",
        "\n",
        "**https://www.projectrhea.org/rhea/index.php/PCA_Theory_Examples**\n",
        "\n",
        "**http://www.dsc.ufcg.edu.br/~hmg/disciplinas/posgraduacao/rn-copin-2014.3/material/SignalProcPCA.pdf**\n",
        "\n",
        "![](https://miro.medium.com/max/922/1*m843SG1jDfU9-DLx-y34LQ.gif)"
      ]
    },
    {
      "cell_type": "markdown",
      "metadata": {},
      "source": [
        "First, we’ll import the necessary packages to perform principal components regression (PCR) in Python:"
      ]
    },
    {
      "cell_type": "code",
      "execution_count": 28,
      "metadata": {},
      "outputs": [],
      "source": [
        "from sklearn.decomposition import PCA\n",
        "from sklearn.preprocessing import StandardScaler"
      ]
    },
    {
      "cell_type": "markdown",
      "metadata": {},
      "source": [
        "However, when the predictor variables are highly correlated then multicollinearity can become a problem. This can cause the coefficient estimates of the model to be unreliable and have high variance.\n",
        "\n",
        "One way to avoid this problem is to instead use principal components regression, which finds M linear combinations (known as “principal components”) of the original p predictors and then uses least squares to fit a linear regression model using the principal components as predictors.\n",
        "\n",
        "This tutorial provides a step-by-step example of how to perform principal components regression in Python."
      ]
    },
    {
      "cell_type": "markdown",
      "metadata": {},
      "source": [
        "## Standardize the Data\n",
        "PCA is effected by scale so you need to scale the features in your data before applying PCA. Use StandardScaler to help you standardize the dataset’s features onto unit scale (mean = 0 and variance = 1) which is a requirement for the optimal performance of many machine learning algorithms. If you want to see the negative effect not scaling your data can have, scikit-learn has a section on the effects of not standardizing your data."
      ]
    },
    {
      "cell_type": "markdown",
      "metadata": {},
      "source": [
        "![](https://clavelresearch.files.wordpress.com/2019/03/z-score-population.png)"
      ]
    },
    {
      "cell_type": "code",
      "execution_count": 29,
      "metadata": {},
      "outputs": [
        {
          "data": {
            "text/plain": [
              "array([[ 2.04177671, -1.78587489, -0.56195149, -1.47007664,  1.        ,\n",
              "        -1.34164079, -1.76044698, -1.81457514],\n",
              "       [ 2.04177671, -1.78587489, -0.56195149, -1.47007664,  1.        ,\n",
              "        -0.4472136 , -1.76044698, -1.81457514],\n",
              "       [ 2.04177671, -1.78587489, -0.56195149, -1.47007664,  1.        ,\n",
              "         0.4472136 , -1.76044698, -1.81457514],\n",
              "       [ 2.04177671, -1.78587489, -0.56195149, -1.47007664,  1.        ,\n",
              "         1.34164079, -1.76044698, -1.81457514],\n",
              "       [ 1.28497917, -1.22923856,  0.        , -1.19867787,  1.        ,\n",
              "        -1.34164079, -1.76044698, -1.81457514]])"
            ]
          },
          "execution_count": 29,
          "metadata": {},
          "output_type": "execute_result"
        }
      ],
      "source": [
        "# Standardizing the features\n",
        "X = mydata[[\"X1\",\"X2\",\"X3\",\"X4\",\"X5\",\"X6\",\"X7\",\"X8\"]].to_numpy()\n",
        "x_std = StandardScaler().fit_transform(X)\n",
        "x_std[0:5,:]"
      ]
    },
    {
      "cell_type": "markdown",
      "metadata": {},
      "source": [
        "## Eigen Values & Eigen Vectors"
      ]
    },
    {
      "cell_type": "markdown",
      "metadata": {},
      "source": [
        "\n",
        "In linear algebra, an eigenvector or characteristic vector of a linear transformation is a nonzero vector that changes at most by a scalar factor when that linear transformation is applied to it. The corresponding eigenvalue, often denoted by lambda , is the factor by which the eigenvector is scaled.\n",
        "\n",
        "![](http://www.sharetechnote.com/image/EngMath_Matrix_Eigen_Eq_02.PNG)\n",
        "\n",
        "We need to make the covariance matrix when we are doing eigendecomposition. For those who are not familiar with eigendecomposition, you can check this out: Eigendecomposition and PCA (**https://www.youtube.com/watch?v=-1iULsGndG8**), this video explains the role of the covariance in eigendecomposition thoroughly.\n",
        "\n",
        "**https://www.mathsisfun.com/algebra/eigenvalue.html**\n",
        "\n",
        "**https://www.youtube.com/watch?v=FgakZw6K1QQ&t=38s**\n",
        "\n",
        "**https://www.youtube.com/watch?v=G4N8vJpf7hM**"
      ]
    },
    {
      "cell_type": "code",
      "execution_count": 30,
      "metadata": {},
      "outputs": [
        {
          "name": "stdout",
          "output_type": "stream",
          "text": [
            "Raw Eigenvalues: \n",
            " [3.70776711e+00 1.24146781e+00 5.28226666e-02 4.46132201e-03\n",
            " 3.94815168e-15 1.21454566e+00 1.00130378e+00 7.88061902e-01]\n",
            "Percentage of Variance Explained by Each Component: \n",
            " [4.62867411e-01 1.54981414e-01 6.59423589e-03 5.56939125e-04\n",
            " 4.92876358e-16 1.51620528e-01 1.25000000e-01 9.83794724e-02]\n"
          ]
        }
      ],
      "source": [
        "# Construct the covariance matrix.\n",
        "cov_mat = np.cov(x_std.T)\n",
        "\n",
        "# From this covariance matrix, caluclate the Eigenvalues and the Eigenvectors\n",
        "eigen_vals, eigen_vecs = np.linalg.eig(cov_mat)\n",
        "\n",
        "# print the Eigenvalues\n",
        "print(\"Raw Eigenvalues: \\n\", eigen_vals)\n",
        "# the sum of the Eigenvalues \n",
        "print(\"Percentage of Variance Explained by Each Component: \\n\", eigen_vals/sum(eigen_vals))"
      ]
    },
    {
      "cell_type": "markdown",
      "metadata": {},
      "source": [
        "Sorting the eigenvalues by decreasing order to rank the eigenvectors and cumulate them to figure out how many PCs are we going to use."
      ]
    },
    {
      "cell_type": "code",
      "execution_count": 31,
      "metadata": {},
      "outputs": [
        {
          "data": {
            "text/plain": [
              "array([0.46286741, 0.61784882, 0.76946935, 0.89446935, 0.99284882,\n",
              "       0.99944306, 1.        , 1.        ])"
            ]
          },
          "execution_count": 31,
          "metadata": {},
          "output_type": "execute_result"
        }
      ],
      "source": [
        "# let's look at the cumulative variance described by each component\n",
        "tot = sum(eigen_vals)\n",
        "var_exp = [(i / tot) for i in sorted(eigen_vals, reverse=True)]\n",
        "cum_var_exp = np.cumsum(var_exp)\n",
        "cum_var_exp"
      ]
    },
    {
      "cell_type": "code",
      "execution_count": 32,
      "metadata": {},
      "outputs": [
        {
          "data": {
            "image/png": "[encoded data removed]",
            "text/plain": [
              "<Figure size 432x288 with 1 Axes>"
            ]
          },
          "metadata": {
            "needs_background": "light"
          },
          "output_type": "display_data"
        }
      ],
      "source": [
        "# make a bar plot of the variance associated with each component\n",
        "plt.bar(range(1,9), var_exp, alpha=0.5, align='center', label='Individual explained variance')\n",
        "plt.step(range(1,9), cum_var_exp, where='mid', label='Cumulative explained variance', color='red')\n",
        "plt.ylabel('Explained variance ratio')\n",
        "plt.xlabel('Principal component index')\n",
        "plt.show()"
      ]
    },
    {
      "cell_type": "markdown",
      "metadata": {},
      "source": [
        "## PCA using sklearn\n",
        "After learning the steps of PCA, we can let sklearn to do the tedious and elaborate work"
      ]
    },
    {
      "cell_type": "code",
      "execution_count": 33,
      "metadata": {},
      "outputs": [
        {
          "name": "stdout",
          "output_type": "stream",
          "text": [
            "sklearn var:\n",
            " [4.62867411e-01 1.54981414e-01 1.51620528e-01 1.25000000e-01\n",
            " 9.83794724e-02 6.59423589e-03 5.56939125e-04 2.06690401e-32]\n"
          ]
        },
        {
          "data": {
            "image/png": "[encoded data removed]",
            "text/plain": [
              "<Figure size 432x288 with 1 Axes>"
            ]
          },
          "metadata": {
            "needs_background": "light"
          },
          "output_type": "display_data"
        }
      ],
      "source": [
        "from sklearn.decomposition import PCA\n",
        "\n",
        "pca = PCA()\n",
        "\n",
        "# fit_transform() is used to calculate the PCAs from training data\n",
        "X_pca = pca.fit_transform(x_std)\n",
        "\n",
        "# to get the fit statistics (variance explained per component)\n",
        "print(\"sklearn var:\\n\", pca.explained_variance_ratio_)\n",
        "\n",
        "# like we did above visualize the PCs \n",
        "# and the cumulative variance explained by each PC\n",
        "plt.bar(range(1,9), pca.explained_variance_ratio_, alpha=0.5, align='center')\n",
        "plt.step(range(1,9), np.cumsum(pca.explained_variance_ratio_), where='mid', color='red')\n",
        "plt.ylabel('Explained variance ratio')\n",
        "plt.xlabel('Principal Components')\n",
        "plt.show()"
      ]
    },
    {
      "cell_type": "code",
      "execution_count": 34,
      "metadata": {},
      "outputs": [
        {
          "data": {
            "text/plain": [
              "array([[ 0.49595, -0.50173,  0.03251, -0.50496,  0.49624,  0.     ,\n",
              "         0.     ,  0.     ],\n",
              "       [-0.24473,  0.23154,  0.89429, -0.20612,  0.21036,  0.     ,\n",
              "        -0.     ,  0.     ],\n",
              "       [-0.     , -0.     , -0.     , -0.     , -0.     , -0.     ,\n",
              "        -0.70711, -0.70711],\n",
              "       [ 0.     ,  0.     ,  0.     ,  0.     ,  0.     , -1.     ,\n",
              "         0.     , -0.     ],\n",
              "       [ 0.     , -0.     , -0.     ,  0.     ,  0.     , -0.     ,\n",
              "        -0.70711,  0.70711],\n",
              "       [ 0.49517, -0.06621,  0.29112, -0.20516, -0.78967,  0.     ,\n",
              "         0.     ,  0.     ],\n",
              "       [-0.67003, -0.50488, -0.08744, -0.4501 , -0.29311, -0.     ,\n",
              "         0.     ,  0.     ],\n",
              "       [-0.     ,  0.65982, -0.32679, -0.67664, -0.     , -0.     ,\n",
              "        -0.     ,  0.     ]])"
            ]
          },
          "execution_count": 34,
          "metadata": {},
          "output_type": "execute_result"
        }
      ],
      "source": [
        "# Function of each component\n",
        "np.around(pca.components_,5)"
      ]
    },
    {
      "cell_type": "markdown",
      "metadata": {},
      "source": [
        "**PC1 = 0.49595 X1 -0.50173 X2 + 0.03251 X3 -0.50496 X4 + ..... + 0.000 X8**\n",
        "\n",
        "**PC2 = -0.24473 X1 + 0.23154 X2 + 0.89429 X3 -0.20612 X4 + ..... + 0.000 X8**\n",
        "\n",
        "**etc....**"
      ]
    },
    {
      "cell_type": "code",
      "execution_count": 35,
      "metadata": {},
      "outputs": [
        {
          "data": {
            "text/plain": [
              "array([[ 3.12895415e+00, -9.02373432e-01,  2.52792238e+00, ...,\n",
              "         4.77611838e-01, -4.86937592e-02,  1.06699595e-14],\n",
              "       [ 3.12895415e+00, -9.02373432e-01,  2.52792238e+00, ...,\n",
              "         4.77611838e-01, -4.86937592e-02, -4.81727843e-16],\n",
              "       [ 3.12895415e+00, -9.02373432e-01,  2.52792238e+00, ...,\n",
              "         4.77611838e-01, -4.86937592e-02, -2.77463239e-15],\n",
              "       ...,\n",
              "       [-2.40682619e+00,  1.28785724e+00, -1.87764103e+00, ...,\n",
              "         1.39126500e-01, -1.13649220e-01, -4.76509499e-17],\n",
              "       [-2.40682619e+00,  1.28785724e+00, -1.87764103e+00, ...,\n",
              "         1.39126500e-01, -1.13649220e-01, -2.95016815e-17],\n",
              "       [-2.40682619e+00,  1.28785724e+00, -1.87764103e+00, ...,\n",
              "         1.39126500e-01, -1.13649220e-01, -1.13524131e-17]])"
            ]
          },
          "execution_count": 35,
          "metadata": {},
          "output_type": "execute_result"
        }
      ],
      "source": [
        "# New Features\n",
        "X_pca"
      ]
    },
    {
      "cell_type": "code",
      "execution_count": 36,
      "metadata": {},
      "outputs": [
        {
          "name": "stdout",
          "output_type": "stream",
          "text": [
            "  feature  VIF\n",
            "0     PC1  1.0\n",
            "1     PC2  1.0\n",
            "2     PC3  1.0\n",
            "3     PC4  1.0\n",
            "4     PC5  1.0\n",
            "5     PC6  1.0\n",
            "6     PC7  1.0\n",
            "7     PC8  1.0\n"
          ]
        }
      ],
      "source": [
        "# VIF dataframe\n",
        "vif_data = pd.DataFrame()\n",
        "vif_data[\"feature\"] = [\"PC1\",\"PC2\",\"PC3\",\"PC4\",\"PC5\",\"PC6\",\"PC7\",\"PC8\"]\n",
        "  \n",
        "# calculating VIF for each component\n",
        "vif_data[\"VIF\"] = [variance_inflation_factor(X_pca, i)\n",
        "                          for i in range(8)]\n",
        "                          \n",
        "print(vif_data)"
      ]
    },
    {
      "cell_type": "markdown",
      "metadata": {},
      "source": [
        "## Estimate Principal Component Regression with Scikit-learn "
      ]
    },
    {
      "cell_type": "code",
      "execution_count": 37,
      "metadata": {},
      "outputs": [
        {
          "name": "stdout",
          "output_type": "stream",
          "text": [
            "coefficient of determination: 0.9162021649454063\n",
            "intercept: 22.3071953125\n",
            "slope: [ 4.16693352e+00  3.80271374e+00 -2.09979943e+00  2.60839659e-02\n",
            " -1.65312880e+00 -7.87243710e+00  6.09650035e+00 -2.10625862e-28]\n"
          ]
        }
      ],
      "source": [
        "# PC Regression using Scikit-learn\n",
        "model = LinearRegression()\n",
        "model.fit(X_pca, y)\n",
        "\n",
        "# Summary\n",
        "r_sq = model.score(X_pca, y)\n",
        "print('coefficient of determination:', r_sq)\n",
        "print('intercept:', model.intercept_)\n",
        "print('slope:', model.coef_)"
      ]
    },
    {
      "cell_type": "markdown",
      "metadata": {},
      "source": [
        "**Y = 22.3071953125 + 4.1669 PC1 + 3.8027 PC2 -2.0998 PC3 + .... + 0.000 PC8** "
      ]
    },
    {
      "cell_type": "markdown",
      "metadata": {},
      "source": [
        "## Estimate Principal Component Regression with Statmodels "
      ]
    },
    {
      "cell_type": "code",
      "execution_count": 38,
      "metadata": {},
      "outputs": [
        {
          "name": "stdout",
          "output_type": "stream",
          "text": [
            "                            OLS Regression Results                            \n",
            "==============================================================================\n",
            "Dep. Variable:                      y   R-squared:                       0.916\n",
            "Model:                            OLS   Adj. R-squared:                  0.915\n",
            "Method:                 Least Squares   F-statistic:                     1187.\n",
            "Date:                Sun, 24 Oct 2021   Prob (F-statistic):               0.00\n",
            "Time:                        22:11:52   Log-Likelihood:                -1912.5\n",
            "No. Observations:                 768   AIC:                             3841.\n",
            "Df Residuals:                     760   BIC:                             3878.\n",
            "Df Model:                           7                                         \n",
            "Covariance Type:            nonrobust                                         \n",
            "==============================================================================\n",
            "                 coef    std err          t      P>|t|      [0.025      0.975]\n",
            "------------------------------------------------------------------------------\n",
            "const         22.3072      0.106    210.678      0.000      22.099      22.515\n",
            "x1             4.1669      0.055     75.729      0.000       4.059       4.275\n",
            "x2             3.8027      0.095     39.990      0.000       3.616       3.989\n",
            "x3            -2.0998      0.096    -21.841      0.000      -2.289      -1.911\n",
            "x4             0.0261      0.106      0.246      0.805      -0.182       0.234\n",
            "x5            -1.6531      0.119    -13.851      0.000      -1.887      -1.419\n",
            "x6            -7.8724      0.461    -17.077      0.000      -8.777      -6.967\n",
            "x7             6.0965      1.586      3.843      0.000       2.983       9.210\n",
            "x8          9.921e-16   6.99e-17     14.190      0.000    8.55e-16    1.13e-15\n",
            "==============================================================================\n",
            "Omnibus:                       18.647   Durbin-Watson:                   0.654\n",
            "Prob(Omnibus):                  0.000   Jarque-Bera (JB):               37.707\n",
            "Skew:                           0.044   Prob(JB):                     6.49e-09\n",
            "Kurtosis:                       4.082   Cond. No.                     4.73e+15\n",
            "==============================================================================\n",
            "\n",
            "Notes:\n",
            "[1] Standard Errors assume that the covariance matrix of the errors is correctly specified.\n",
            "[2] The smallest eigenvalue is 1.27e-28. This might indicate that there are\n",
            "strong multicollinearity problems or that the design matrix is singular.\n"
          ]
        }
      ],
      "source": [
        "## Estimate Principal Component Regression\n",
        "Xwithone_pca = sm.add_constant(X_pca)\n",
        "\n",
        "# Create a model and fit it\n",
        "model4 = sm.OLS(y, Xwithone_pca)\n",
        "results = model4.fit()\n",
        "\n",
        "# Get results\n",
        "print(results.summary())"
      ]
    },
    {
      "cell_type": "markdown",
      "metadata": {},
      "source": [
        "## LASSO (L1) Regression with scikit-learn"
      ]
    },
    {
      "cell_type": "markdown",
      "metadata": {},
      "source": [
        "What is Regularization?\n",
        "In a general manner, to make things regular or acceptable is what we mean by the term regularization. This is exactly why we use it for applied machine learning. In the domain of machine learning, regularization is the process which prevents overfitting by discouraging developers learning a more complex or flexible model, and finally, which regularizes or shrinks the coefficients towards zero. The basic idea is to penalize the complex models i.e. adding a complexity term in such a way that it tends to give a bigger loss for evaluating complex models.\n",
        "\n",
        "There are mainly two types of regularization techniques, namely **Lasso Regression (L1 Regularization)** and **Ridge Regression (L2 Regularization)** . The way they assign a penalty to β (coefficients) is what differentiates them from each other.\n",
        "\n",
        "Lasso Regression (L1 Regularization). This regularization technique performs L1 regularization. Unlike Ridge Regression, it modifies the RSS by adding the penalty (shrinkage quantity) equivalent to the sum of the absolute value of coefficients.\n",
        "\n",
        "Looking at the equation below, we can observe that similar to Ridge Regression, Lasso (**Least Absolute Shrinkage and Selection Operator**) also penalizes the absolute size of the regression coefficients. In addition to this, it is quite capable of reducing the variability and improving the accuracy of linear regression models.\n",
        "\n",
        "![av](https://excelrcom.b-cdn.net/assets/admin/ckfinder/userfiles/images/2020%20uploads/13/2.PNG)\n",
        "\n",
        "- If the number of predictors (p) is greater than the number of observations (n), Lasso will pick at most n predictors as non-zero, even if all predictors are relevant (or may be used in the test set). In such cases, Lasso sometimes really has to struggle with such types of data.\n",
        "- If there are two or more highly collinear variables, then LASSO regression select one of them which is not good for the interpretation of data.\n",
        "\n",
        "Lasso regression differs from ridge regression in a way that it uses absolute values within the penalty function, rather than that of squares. This leads to penalizing (or equivalently constraining the sum of the absolute values of the estimates) values which causes some of the parameter estimates to turn out exactly zero. The more penalty is applied, the more the estimates get shrunk towards absolute zero. This helps to variable selection out of given range of n variables."
      ]
    },
    {
      "cell_type": "code",
      "execution_count": 39,
      "metadata": {},
      "outputs": [],
      "source": [
        "# Import library\n",
        "from sklearn.linear_model import ElasticNet, Ridge, Lasso"
      ]
    },
    {
      "cell_type": "code",
      "execution_count": 40,
      "metadata": {},
      "outputs": [
        {
          "name": "stdout",
          "output_type": "stream",
          "text": [
            "R Square: 0.9055917500306943\n",
            "Intercept: -25.671999350888107\n",
            "Slope: [-0.00000000e+00  4.01453926e-03  4.81692259e-02 -0.00000000e+00\n",
            "  4.92842241e+00 -0.00000000e+00  1.41309347e+01  2.68281344e-01]\n"
          ]
        }
      ],
      "source": [
        "# Define model\n",
        "lasso = Lasso(alpha=0.1)\n",
        "\n",
        "# Fit the Lasso model\n",
        "lasso.fit(X, y)\n",
        "\n",
        "# Calculate model score (R square)\n",
        "print(\"R Square:\", lasso.score(X, y))\n",
        "\n",
        "# Lasso Coeficients\n",
        "print(\"Intercept:\", lasso.intercept_)\n",
        "print(\"Slope:\", lasso.coef_)"
      ]
    },
    {
      "cell_type": "markdown",
      "metadata": {},
      "source": [
        "## Estimate LASSO Regression using optimum Alpha"
      ]
    },
    {
      "cell_type": "code",
      "execution_count": 41,
      "metadata": {},
      "outputs": [],
      "source": [
        "# Call function\n",
        "from sklearn.linear_model import RidgeCV, LassoCV, ElasticNetCV\n",
        "from sklearn.model_selection import KFold, GridSearchCV"
      ]
    },
    {
      "cell_type": "markdown",
      "metadata": {},
      "source": [
        "### Using GridSearchCV"
      ]
    },
    {
      "cell_type": "code",
      "execution_count": 42,
      "metadata": {},
      "outputs": [
        {
          "name": "stdout",
          "output_type": "stream",
          "text": [
            "Neg. RMSE : -3.096\n",
            "Config best {'alpha': 0.1}\n"
          ]
        }
      ],
      "source": [
        "# define model\n",
        "model = Lasso(max_iter = 5000)\n",
        "# define model evaluation method\n",
        "cv = KFold(n_splits=10, shuffle=True, random_state=1)\n",
        "# define grid\n",
        "grid = {'alpha': [0.1,0.2,0.3,0.4,0.5]}\n",
        "# define search\n",
        "search = GridSearchCV(model, grid, scoring=\"neg_root_mean_squared_error\", cv=cv, n_jobs=-1)\n",
        "# perform the search\n",
        "results = search.fit(X, y)\n",
        "# summarize\n",
        "print('Neg. RMSE : %.3f' % results.best_score_)\n",
        "print('Config best %s' % results.best_params_)"
      ]
    },
    {
      "cell_type": "code",
      "execution_count": 43,
      "metadata": {},
      "outputs": [
        {
          "name": "stdout",
          "output_type": "stream",
          "text": [
            "coefficient of determination: 0.9055917500306943\n",
            "intercept: -25.671999350888107\n",
            "slope:\n"
          ]
        },
        {
          "data": {
            "text/plain": [
              "array([-0.0000e+00,  4.0000e-03,  4.8000e-02, -0.0000e+00,  4.9280e+00,\n",
              "       -0.0000e+00,  1.4131e+01,  2.6800e-01])"
            ]
          },
          "execution_count": 43,
          "metadata": {},
          "output_type": "execute_result"
        }
      ],
      "source": [
        "r_sq = results.best_estimator_.score(X, y)\n",
        "print('coefficient of determination:', r_sq)\n",
        "print('intercept:',results.best_estimator_.intercept_)\n",
        "print('slope:')\n",
        "np.round(results.best_estimator_.coef_,3)"
      ]
    },
    {
      "cell_type": "markdown",
      "metadata": {},
      "source": [
        "### Using RidgeCV function"
      ]
    },
    {
      "cell_type": "code",
      "execution_count": 44,
      "metadata": {},
      "outputs": [
        {
          "name": "stdout",
          "output_type": "stream",
          "text": [
            "Alpha: 0.1\n",
            "intercept: -25.671999350888107\n",
            "slope:\n"
          ]
        },
        {
          "data": {
            "text/plain": [
              "array([-0.0000e+00,  4.0000e-03,  4.8000e-02, -0.0000e+00,  4.9280e+00,\n",
              "       -0.0000e+00,  1.4131e+01,  2.6800e-01])"
            ]
          },
          "execution_count": 44,
          "metadata": {},
          "output_type": "execute_result"
        }
      ],
      "source": [
        "# define evaluation method of the model\n",
        "model_lasso = LassoCV(alphas = [0.1,0.2,0.3,0.4,0.5], cv=cv, max_iter = 3000).fit(X, y)\n",
        "model_lasso.score(X, y)\n",
        "print('Alpha:', model_lasso.alpha_)\n",
        "print('intercept:',model_lasso.intercept_)\n",
        "print('slope:')\n",
        "np.round(model_lasso.coef_,3)"
      ]
    },
    {
      "cell_type": "markdown",
      "metadata": {},
      "source": [
        "## Ridge (L2) Regression with scikit-learn"
      ]
    },
    {
      "cell_type": "markdown",
      "metadata": {},
      "source": [
        "Ridge Regression (L2 Regularization). This technique performs L2 regularization. The main algorithm behind this is to modify the RSS by adding the penalty which is equivalent to the square of the magnitude of coefficients. However, it is considered to be a technique used when the info suffers from multicollinearity (independent variables are highly correlated). In multicollinearity, albeit the smallest amount squares estimates (OLS) are unbiased, their variances are large which deviates the observed value faraway from truth value. By adding a degree of bias to the regression estimates, ridge regression reduces the quality errors. It tends to solve the multicollinearity problem through shrinkage parameter λ. Now, let us have a look at the equation below.\n",
        "\n",
        "![av](https://excelrcom.b-cdn.net/assets/admin/ckfinder/userfiles/images/2020%20uploads/13/1.PNG)\n",
        "\n",
        "In this equation, we have two components. The foremost one denotes the least square term and later one is lambda of the summation of β2 (beta- square) where β is the coefficient. This is added to least square term so as to shrink the parameter to possess a really low variance.\n",
        "\n",
        "Every technique has some pros and cons, so as Ridge regression. It decreases the complexity of a model but does not reduce the number of variables since it never leads to a coefficient tending to zero rather only minimizes it. Hence, this model is not a good fit for feature reduction."
      ]
    },
    {
      "cell_type": "code",
      "execution_count": 45,
      "metadata": {},
      "outputs": [
        {
          "name": "stdout",
          "output_type": "stream",
          "text": [
            "Neg. RMSE : -2.946\n",
            "Config best {'alpha': 0.1}\n"
          ]
        }
      ],
      "source": [
        "# define model\n",
        "model = Ridge()\n",
        "# define model evaluation method\n",
        "cv = KFold(n_splits=10, shuffle=True, random_state=1)\n",
        "# define grid\n",
        "grid = {'alpha': [0.1,0.2,0.3,0.4,0.5]}\n",
        "# define search\n",
        "search = GridSearchCV(model, grid, scoring=\"neg_root_mean_squared_error\", cv=cv, n_jobs=-1)\n",
        "# perform the search\n",
        "results = search.fit(X, y)\n",
        "# summarize\n",
        "print('Neg. RMSE : %.3f' % results.best_score_)\n",
        "print('Config best %s' % results.best_params_)"
      ]
    },
    {
      "cell_type": "code",
      "execution_count": 46,
      "metadata": {},
      "outputs": [
        {
          "name": "stdout",
          "output_type": "stream",
          "text": [
            "coefficient of determination: 0.9148735698191434\n",
            "intercept: 19.112558611659537\n",
            "slope:\n"
          ]
        },
        {
          "data": {
            "text/plain": [
              "array([-2.91083e+01, -1.77000e-02,  3.46000e-02, -2.62000e-02,\n",
              "        4.91520e+00, -2.33000e-02,  1.97806e+01,  2.06500e-01])"
            ]
          },
          "execution_count": 46,
          "metadata": {},
          "output_type": "execute_result"
        }
      ],
      "source": [
        "r_sq = results.best_estimator_.score(X, y)\n",
        "print('coefficient of determination:', r_sq)\n",
        "print('intercept:',results.best_estimator_.intercept_)\n",
        "print('slope:')\n",
        "np.round(results.best_estimator_.coef_,4)"
      ]
    },
    {
      "cell_type": "code",
      "execution_count": 47,
      "metadata": {},
      "outputs": [
        {
          "name": "stdout",
          "output_type": "stream",
          "text": [
            "Alpha: 0.1\n",
            "intercept: 19.112558611659537\n",
            "slope:\n"
          ]
        },
        {
          "data": {
            "text/plain": [
              "array([-29.,  -0.,   0.,  -0.,   5.,  -0.,  20.,   0.])"
            ]
          },
          "execution_count": 47,
          "metadata": {},
          "output_type": "execute_result"
        }
      ],
      "source": [
        "# define evaluation method of the model\n",
        "model_ridge = RidgeCV(alphas = [0.1,0.2,0.3,0.4,0.5], cv=cv, scoring=\"neg_root_mean_squared_error\").fit(X, y)\n",
        "model_ridge.score(X, y)\n",
        "print('Alpha:', model_ridge.alpha_)\n",
        "print('intercept:',model_ridge.intercept_)\n",
        "print('slope:')\n",
        "np.round(model_ridge.coef_)"
      ]
    },
    {
      "cell_type": "markdown",
      "metadata": {},
      "source": [
        "## Elastic Net Regression with scikit-learn"
      ]
    },
    {
      "cell_type": "markdown",
      "metadata": {},
      "source": [
        "The main purpose of ElasticNet Regression is to find the coefficients that minimize the sum of error squares by applying a penalty to these coefficients. ElasticNet combines L1 and L2 (Lasso and Ridge) approaches. As a result, it performs a more efficient smoothing process. In another source, it is said that Elastic Net first emerged as a result of critique on Lasso, whose variable selection can be too dependent on data and thus unstable. The solution is to combine the penalties of Ridge regression and Lasso to get the best of both worlds.\n",
        "\n",
        "**Features of ElasticNet Regression:**\n",
        "- It combines the L1 and L2 approaches.\n",
        "- It performs a more efficient regularization process.\n",
        "- It has two parameters to be set, λ and α.\n",
        "\n",
        "The elastic net method improves on lasso’s limitations, i.e., where lasso takes a few samples for high dimensional data, the elastic net procedure provides the inclusion of “n” number of variables until saturation. In a case where the variables are highly correlated groups, lasso tends to choose one variable from such groups and ignore the rest entirely. Elastic Net aims at minimizing the following loss function:"
      ]
    },
    {
      "cell_type": "markdown",
      "metadata": {},
      "source": [
        "![](https://miro.medium.com/max/589/1*XjDc54wcUkLcnSXmYjIH4Q.png)"
      ]
    },
    {
      "cell_type": "markdown",
      "metadata": {},
      "source": [
        "Now let’s build a ElasticNet Regression model on a sample data set. And then let’s calculate the square root of the model’s Mean Squared Error This will give us the model error. First of all, we import the libraries necessary for modeling as usual."
      ]
    },
    {
      "cell_type": "code",
      "execution_count": 49,
      "metadata": {},
      "outputs": [
        {
          "name": "stdout",
          "output_type": "stream",
          "text": [
            "Neg. RMSE : -3.672\n",
            "Config best {'alpha': 0.1, 'l1_ratio': 0.5}\n"
          ]
        }
      ],
      "source": [
        "# define model\n",
        "model = ElasticNet()\n",
        "# define model evaluation method\n",
        "cv = KFold(n_splits=10, shuffle=True, random_state=1)\n",
        "# define grid\n",
        "grid = {'alpha': [0.1,0.2,0.3,0.4,0.5],'l1_ratio': [0.1,0.2,0.3,0.4,0.5]}\n",
        "# define search\n",
        "search = GridSearchCV(model, grid, scoring=\"neg_root_mean_squared_error\", cv=cv, n_jobs=-1)\n",
        "# perform the search\n",
        "results = search.fit(X, y)\n",
        "# summarize\n",
        "print('Neg. RMSE : %.3f' % results.best_score_)\n",
        "print('Config best %s' % results.best_params_)"
      ]
    },
    {
      "cell_type": "code",
      "execution_count": 50,
      "metadata": {},
      "outputs": [
        {
          "name": "stdout",
          "output_type": "stream",
          "text": [
            "coefficient of determination: 0.8674865824188637\n",
            "intercept: -13.0770631841744\n",
            "slope:\n"
          ]
        },
        {
          "data": {
            "text/plain": [
              "array([-0.    , -0.0076,  0.0596, -0.0111,  4.0219, -0.    ,  4.3127,\n",
              "        0.4591])"
            ]
          },
          "execution_count": 50,
          "metadata": {},
          "output_type": "execute_result"
        }
      ],
      "source": [
        "r_sq = results.best_estimator_.score(X, y)\n",
        "print('coefficient of determination:', r_sq)\n",
        "print('intercept:',results.best_estimator_.intercept_)\n",
        "print('slope:')\n",
        "np.round(results.best_estimator_.coef_,4)"
      ]
    }
  ],
  "metadata": {
    "colab": {
      "name": "Colab1-for-deeplearn.ipynb",
      "provenance": [],
      "toc_visible": true
    },
    "interpreter": {
      "hash": "431a35f87f30a76417cdd0c4f34651cdd199ab3210df0eaa8d33365a9e456766"
    },
    "kernelspec": {
      "display_name": "Python 3.8.5 64-bit ('base': conda)",
      "name": "python3"
    },
    "language_info": {
      "codemirror_mode": {
        "name": "ipython",
        "version": 3
      },
      "file_extension": ".py",
      "mimetype": "text/x-python",
      "name": "python",
      "nbconvert_exporter": "python",
      "pygments_lexer": "ipython3",
      "version": "3.8.5"
    }
  },
  "nbformat": 4,
  "nbformat_minor": 2
}
